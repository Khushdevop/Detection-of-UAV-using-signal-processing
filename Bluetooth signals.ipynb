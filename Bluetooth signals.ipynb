{
  "cells": [
    {
      "cell_type": "code",
      "execution_count": null,
      "id": "661a7b57",
      "metadata": {
        "id": "661a7b57",
        "outputId": "9866c5a2-0fd1-41f3-ff95-e05e2c53b352"
      },
      "outputs": [
        {
          "name": "stdout",
          "output_type": "stream",
          "text": [
            "Defaulting to user installation because normal site-packages is not writeable\n",
            "Requirement already satisfied: mat73 in c:\\users\\student\\appdata\\roaming\\python\\python39\\site-packages (0.60)\n",
            "Requirement already satisfied: numpy in c:\\users\\student\\appdata\\roaming\\python\\python39\\site-packages (from mat73) (1.22.4)\n",
            "Requirement already satisfied: h5py in c:\\programdata\\anaconda3\\lib\\site-packages (from mat73) (3.7.0)\n",
            "Defaulting to user installation because normal site-packages is not writeable\n",
            "Requirement already satisfied: tsfel in c:\\users\\student\\appdata\\roaming\\python\\python39\\site-packages (0.1.5)\n",
            "Requirement already satisfied: numpy>=1.18.5 in c:\\users\\student\\appdata\\roaming\\python\\python39\\site-packages (from tsfel) (1.22.4)\n",
            "Requirement already satisfied: pandas>=1.5.3 in c:\\users\\student\\appdata\\roaming\\python\\python39\\site-packages (from tsfel) (1.5.3)\n",
            "Requirement already satisfied: setuptools>=47.1.1 in c:\\programdata\\anaconda3\\lib\\site-packages (from tsfel) (65.6.3)\n",
            "Requirement already satisfied: gspread>=3.1.0 in c:\\users\\student\\appdata\\roaming\\python\\python39\\site-packages (from tsfel) (5.7.2)\n",
            "Requirement already satisfied: scipy>=1.7.3 in c:\\programdata\\anaconda3\\lib\\site-packages (from tsfel) (1.7.3)\n",
            "Requirement already satisfied: ipython>=7.4.0 in c:\\programdata\\anaconda3\\lib\\site-packages (from tsfel) (7.31.1)\n",
            "Requirement already satisfied: Sphinx>=1.8.5 in c:\\programdata\\anaconda3\\lib\\site-packages (from tsfel) (5.0.2)\n",
            "Requirement already satisfied: oauth2client>=4.1.3 in c:\\users\\student\\appdata\\roaming\\python\\python39\\site-packages (from tsfel) (4.1.3)\n",
            "Requirement already satisfied: google-auth>=1.12.0 in c:\\users\\student\\appdata\\roaming\\python\\python39\\site-packages (from gspread>=3.1.0->tsfel) (2.16.2)\n",
            "Requirement already satisfied: google-auth-oauthlib>=0.4.1 in c:\\users\\student\\appdata\\roaming\\python\\python39\\site-packages (from gspread>=3.1.0->tsfel) (1.0.0)\n",
            "Requirement already satisfied: colorama in c:\\programdata\\anaconda3\\lib\\site-packages (from ipython>=7.4.0->tsfel) (0.4.6)\n",
            "Requirement already satisfied: decorator in c:\\programdata\\anaconda3\\lib\\site-packages (from ipython>=7.4.0->tsfel) (5.1.1)\n",
            "Requirement already satisfied: matplotlib-inline in c:\\programdata\\anaconda3\\lib\\site-packages (from ipython>=7.4.0->tsfel) (0.1.6)\n",
            "Requirement already satisfied: pickleshare in c:\\programdata\\anaconda3\\lib\\site-packages (from ipython>=7.4.0->tsfel) (0.7.5)\n",
            "Requirement already satisfied: prompt-toolkit!=3.0.0,!=3.0.1,<3.1.0,>=2.0.0 in c:\\programdata\\anaconda3\\lib\\site-packages (from ipython>=7.4.0->tsfel) (3.0.36)\n",
            "Requirement already satisfied: pygments in c:\\programdata\\anaconda3\\lib\\site-packages (from ipython>=7.4.0->tsfel) (2.11.2)\n",
            "Requirement already satisfied: backcall in c:\\programdata\\anaconda3\\lib\\site-packages (from ipython>=7.4.0->tsfel) (0.2.0)\n",
            "Requirement already satisfied: jedi>=0.16 in c:\\programdata\\anaconda3\\lib\\site-packages (from ipython>=7.4.0->tsfel) (0.18.1)\n",
            "Requirement already satisfied: traitlets>=4.2 in c:\\programdata\\anaconda3\\lib\\site-packages (from ipython>=7.4.0->tsfel) (5.7.1)\n",
            "Requirement already satisfied: six>=1.6.1 in c:\\programdata\\anaconda3\\lib\\site-packages (from oauth2client>=4.1.3->tsfel) (1.16.0)\n",
            "Requirement already satisfied: rsa>=3.1.4 in c:\\users\\student\\appdata\\roaming\\python\\python39\\site-packages (from oauth2client>=4.1.3->tsfel) (4.9)\n",
            "Requirement already satisfied: httplib2>=0.9.1 in c:\\users\\student\\appdata\\roaming\\python\\python39\\site-packages (from oauth2client>=4.1.3->tsfel) (0.21.0)\n",
            "Requirement already satisfied: pyasn1-modules>=0.0.5 in c:\\programdata\\anaconda3\\lib\\site-packages (from oauth2client>=4.1.3->tsfel) (0.2.8)\n",
            "Requirement already satisfied: pyasn1>=0.1.7 in c:\\programdata\\anaconda3\\lib\\site-packages (from oauth2client>=4.1.3->tsfel) (0.4.8)\n",
            "Requirement already satisfied: python-dateutil>=2.8.1 in c:\\programdata\\anaconda3\\lib\\site-packages (from pandas>=1.5.3->tsfel) (2.8.2)\n",
            "Requirement already satisfied: pytz>=2020.1 in c:\\programdata\\anaconda3\\lib\\site-packages (from pandas>=1.5.3->tsfel) (2022.7)\n",
            "Requirement already satisfied: importlib-metadata>=4.4 in c:\\programdata\\anaconda3\\lib\\site-packages (from Sphinx>=1.8.5->tsfel) (4.11.3)\n",
            "Requirement already satisfied: babel>=1.3 in c:\\programdata\\anaconda3\\lib\\site-packages (from Sphinx>=1.8.5->tsfel) (2.11.0)\n",
            "Requirement already satisfied: alabaster<0.8,>=0.7 in c:\\programdata\\anaconda3\\lib\\site-packages (from Sphinx>=1.8.5->tsfel) (0.7.12)\n",
            "Requirement already satisfied: requests>=2.5.0 in c:\\programdata\\anaconda3\\lib\\site-packages (from Sphinx>=1.8.5->tsfel) (2.28.1)\n",
            "Requirement already satisfied: docutils<0.19,>=0.14 in c:\\programdata\\anaconda3\\lib\\site-packages (from Sphinx>=1.8.5->tsfel) (0.18.1)\n",
            "Requirement already satisfied: sphinxcontrib-qthelp in c:\\programdata\\anaconda3\\lib\\site-packages (from Sphinx>=1.8.5->tsfel) (1.0.3)\n",
            "Requirement already satisfied: sphinxcontrib-htmlhelp>=2.0.0 in c:\\programdata\\anaconda3\\lib\\site-packages (from Sphinx>=1.8.5->tsfel) (2.0.0)\n",
            "Requirement already satisfied: packaging in c:\\programdata\\anaconda3\\lib\\site-packages (from Sphinx>=1.8.5->tsfel) (22.0)\n",
            "Requirement already satisfied: imagesize in c:\\programdata\\anaconda3\\lib\\site-packages (from Sphinx>=1.8.5->tsfel) (1.4.1)\n",
            "Requirement already satisfied: sphinxcontrib-serializinghtml>=1.1.5 in c:\\programdata\\anaconda3\\lib\\site-packages (from Sphinx>=1.8.5->tsfel) (1.1.5)\n",
            "Requirement already satisfied: sphinxcontrib-devhelp in c:\\programdata\\anaconda3\\lib\\site-packages (from Sphinx>=1.8.5->tsfel) (1.0.2)\n",
            "Requirement already satisfied: sphinxcontrib-applehelp in c:\\programdata\\anaconda3\\lib\\site-packages (from Sphinx>=1.8.5->tsfel) (1.0.2)\n",
            "Requirement already satisfied: sphinxcontrib-jsmath in c:\\programdata\\anaconda3\\lib\\site-packages (from Sphinx>=1.8.5->tsfel) (1.0.1)\n",
            "Requirement already satisfied: snowballstemmer>=1.1 in c:\\programdata\\anaconda3\\lib\\site-packages (from Sphinx>=1.8.5->tsfel) (2.2.0)\n",
            "Requirement already satisfied: Jinja2>=2.3 in c:\\programdata\\anaconda3\\lib\\site-packages (from Sphinx>=1.8.5->tsfel) (2.11.3)\n",
            "Requirement already satisfied: cachetools<6.0,>=2.0.0 in c:\\users\\student\\appdata\\roaming\\python\\python39\\site-packages (from google-auth>=1.12.0->gspread>=3.1.0->tsfel) (5.3.0)\n",
            "Requirement already satisfied: requests-oauthlib>=0.7.0 in c:\\users\\student\\appdata\\roaming\\python\\python39\\site-packages (from google-auth-oauthlib>=0.4.1->gspread>=3.1.0->tsfel) (1.3.1)\n",
            "Requirement already satisfied: pyparsing!=3.0.0,!=3.0.1,!=3.0.2,!=3.0.3,<4,>=2.4.2 in c:\\programdata\\anaconda3\\lib\\site-packages (from httplib2>=0.9.1->oauth2client>=4.1.3->tsfel) (3.0.9)\n",
            "Requirement already satisfied: zipp>=0.5 in c:\\programdata\\anaconda3\\lib\\site-packages (from importlib-metadata>=4.4->Sphinx>=1.8.5->tsfel) (3.11.0)\n",
            "Requirement already satisfied: parso<0.9.0,>=0.8.0 in c:\\programdata\\anaconda3\\lib\\site-packages (from jedi>=0.16->ipython>=7.4.0->tsfel) (0.8.3)\n",
            "Requirement already satisfied: MarkupSafe>=0.23 in c:\\programdata\\anaconda3\\lib\\site-packages (from Jinja2>=2.3->Sphinx>=1.8.5->tsfel) (2.0.1)\n",
            "Requirement already satisfied: wcwidth in c:\\programdata\\anaconda3\\lib\\site-packages (from prompt-toolkit!=3.0.0,!=3.0.1,<3.1.0,>=2.0.0->ipython>=7.4.0->tsfel) (0.2.5)\n",
            "Requirement already satisfied: charset-normalizer<3,>=2 in c:\\programdata\\anaconda3\\lib\\site-packages (from requests>=2.5.0->Sphinx>=1.8.5->tsfel) (2.0.4)\n",
            "Requirement already satisfied: certifi>=2017.4.17 in c:\\programdata\\anaconda3\\lib\\site-packages (from requests>=2.5.0->Sphinx>=1.8.5->tsfel) (2022.12.7)\n",
            "Requirement already satisfied: urllib3<1.27,>=1.21.1 in c:\\programdata\\anaconda3\\lib\\site-packages (from requests>=2.5.0->Sphinx>=1.8.5->tsfel) (1.26.14)\n",
            "Requirement already satisfied: idna<4,>=2.5 in c:\\programdata\\anaconda3\\lib\\site-packages (from requests>=2.5.0->Sphinx>=1.8.5->tsfel) (3.4)\n",
            "Requirement already satisfied: oauthlib>=3.0.0 in c:\\users\\student\\appdata\\roaming\\python\\python39\\site-packages (from requests-oauthlib>=0.7.0->google-auth-oauthlib>=0.4.1->gspread>=3.1.0->tsfel) (3.2.2)\n"
          ]
        }
      ],
      "source": [
        "import os\n",
        "path = r\"C:\\Users\\student\\Downloads\\APPLE_IPHONE6S\\APPLE_IPHONE6S\"\n",
        "os.listdir(path)\n",
        "!pip install mat73\n",
        "import pywt\n",
        "import numpy as np\n",
        "import matplotlib.pyplot as plt\n",
        "!pip install tsfel\n",
        "import tsfel\n",
        "import pandas as pd"
      ]
    },
    {
      "cell_type": "code",
      "execution_count": null,
      "id": "7b835e72",
      "metadata": {
        "id": "7b835e72",
        "outputId": "c49ce4e0-9e10-4731-832e-bad7a33e74f2"
      },
      "outputs": [
        {
          "data": {
            "text/plain": [
              "['IPHONE600002.mat',\n",
              " 'IPHONE600004.mat',\n",
              " 'IPHONE600006.mat',\n",
              " 'IPHONE600007.mat',\n",
              " 'IPHONE600009.mat',\n",
              " 'IPHONE600010.mat',\n",
              " 'IPHONE600011.mat',\n",
              " 'IPHONE600012.mat',\n",
              " 'IPHONE600014.mat',\n",
              " 'IPHONE600015.mat',\n",
              " 'IPHONE600016.mat',\n",
              " 'IPHONE600018.mat',\n",
              " 'IPHONE600019.mat',\n",
              " 'IPHONE600020.mat',\n",
              " 'IPHONE600022.mat',\n",
              " 'IPHONE600023.mat',\n",
              " 'IPHONE600024.mat',\n",
              " 'IPHONE600025.mat',\n",
              " 'IPHONE600027.mat',\n",
              " 'IPHONE600028.mat',\n",
              " 'IPHONE600029.mat',\n",
              " 'IPHONE600030.mat',\n",
              " 'IPHONE600032.mat',\n",
              " 'IPHONE600033.mat',\n",
              " 'IPHONE600034.mat',\n",
              " 'IPHONE600035.mat',\n",
              " 'IPHONE600037.mat',\n",
              " 'IPHONE600038.mat',\n",
              " 'IPHONE600040.mat',\n",
              " 'IPHONE600041.mat',\n",
              " 'IPHONE600042.mat',\n",
              " 'IPHONE600044.mat',\n",
              " 'IPHONE600046.mat',\n",
              " 'IPHONE600047.mat',\n",
              " 'IPHONE600049.mat',\n",
              " 'IPHONE600050.mat',\n",
              " 'IPHONE600052.mat',\n",
              " 'IPHONE600053.mat',\n",
              " 'IPHONE600054.mat',\n",
              " 'IPHONE600055.mat',\n",
              " 'IPHONE600057.mat',\n",
              " 'IPHONE600058.mat',\n",
              " 'IPHONE600059.mat',\n",
              " 'IPHONE600060.mat',\n",
              " 'IPHONE600061.mat',\n",
              " 'IPHONE600063.mat',\n",
              " 'IPHONE600064.mat',\n",
              " 'IPHONE600065.mat',\n",
              " 'IPHONE600066.mat',\n",
              " 'IPHONE600068.mat',\n",
              " 'IPHONE600069.mat',\n",
              " 'IPHONE600070.mat',\n",
              " 'IPHONE600071.mat',\n",
              " 'IPHONE600073.mat',\n",
              " 'IPHONE600074.mat',\n",
              " 'IPHONE600076.mat',\n",
              " 'IPHONE600077.mat',\n",
              " 'IPHONE600078.mat',\n",
              " 'IPHONE600080.mat',\n",
              " 'IPHONE600081.mat',\n",
              " 'IPHONE600082.mat',\n",
              " 'IPHONE600083.mat',\n",
              " 'IPHONE600085.mat',\n",
              " 'IPHONE600086.mat',\n",
              " 'IPHONE600088.mat',\n",
              " 'IPHONE600089.mat',\n",
              " 'IPHONE600091.mat',\n",
              " 'IPHONE600093.mat',\n",
              " 'IPHONE600094.mat',\n",
              " 'IPHONE600096.mat',\n",
              " 'IPHONE600097.mat',\n",
              " 'IPHONE600099.mat',\n",
              " 'IPHONE600100.mat',\n",
              " 'IPHONE600101.mat',\n",
              " 'IPHONE600103.mat',\n",
              " 'IPHONE600104.mat',\n",
              " 'IPHONE600105.mat',\n",
              " 'IPHONE600107.mat',\n",
              " 'IPHONE600108.mat',\n",
              " 'IPHONE600109.mat',\n",
              " 'IPHONE600111.mat',\n",
              " 'IPHONE600112.mat',\n",
              " 'IPHONE600114.mat',\n",
              " 'IPHONE600115.mat',\n",
              " 'IPHONE600117.mat',\n",
              " 'IPHONE600119.mat',\n",
              " 'IPHONE600120.mat',\n",
              " 'IPHONE600121.mat',\n",
              " 'IPHONE600122.mat',\n",
              " 'IPHONE600124.mat',\n",
              " 'IPHONE600126.mat',\n",
              " 'IPHONE600127.mat',\n",
              " 'IPHONE600128.mat',\n",
              " 'IPHONE600130.mat',\n",
              " 'IPHONE600131.mat',\n",
              " 'IPHONE600132.mat',\n",
              " 'IPHONE600133.mat',\n",
              " 'IPHONE600134.mat',\n",
              " 'IPHONE600136.mat',\n",
              " 'IPHONE600138.mat',\n",
              " 'IPHONE600139.mat',\n",
              " 'IPHONE600141.mat',\n",
              " 'IPHONE600143.mat',\n",
              " 'IPHONE600144.mat',\n",
              " 'IPHONE600146.mat',\n",
              " 'IPHONE600147.mat',\n",
              " 'IPHONE600148.mat',\n",
              " 'IPHONE600149.mat',\n",
              " 'IPHONE600151.mat',\n",
              " 'IPHONE600152.mat',\n",
              " 'IPHONE600153.mat',\n",
              " 'IPHONE600155.mat',\n",
              " 'IPHONE600156.mat',\n",
              " 'IPHONE600158.mat',\n",
              " 'IPHONE600159.mat',\n",
              " 'IPHONE600161.mat',\n",
              " 'IPHONE600163.mat',\n",
              " 'IPHONE600164.mat',\n",
              " 'IPHONE600166.mat',\n",
              " 'IPHONE600167.mat',\n",
              " 'IPHONE600168.mat',\n",
              " 'IPHONE600170.mat',\n",
              " 'IPHONE600171.mat',\n",
              " 'IPHONE600172.mat',\n",
              " 'IPHONE600174.mat',\n",
              " 'IPHONE600175.mat',\n",
              " 'IPHONE600176.mat',\n",
              " 'IPHONE600178.mat',\n",
              " 'IPHONE600179.mat',\n",
              " 'IPHONE600180.mat',\n",
              " 'IPHONE600182.mat',\n",
              " 'IPHONE600183.mat',\n",
              " 'IPHONE600184.mat',\n",
              " 'IPHONE600185.mat',\n",
              " 'IPHONE600187.mat',\n",
              " 'IPHONE600188.mat',\n",
              " 'IPHONE600189.mat',\n",
              " 'IPHONE600191.mat',\n",
              " 'IPHONE600192.mat',\n",
              " 'IPHONE600193.mat',\n",
              " 'IPHONE600195.mat',\n",
              " 'IPHONE600197.mat',\n",
              " 'IPHONE600198.mat',\n",
              " 'IPHONE600200.mat',\n",
              " 'IPHONE600201.mat',\n",
              " 'IPHONE600202.mat',\n",
              " 'IPHONE600203.mat',\n",
              " 'IPHONE600204.mat',\n",
              " 'IPHONE600206.mat',\n",
              " 'IPHONE600208.mat',\n",
              " 'IPHONE600209.mat',\n",
              " 'IPHONE600211.mat',\n",
              " 'IPHONE600213.mat',\n",
              " 'IPHONE600214.mat',\n",
              " 'IPHONE600215.mat',\n",
              " 'IPHONE600217.mat',\n",
              " 'IPHONE600218.mat',\n",
              " 'IPHONE600219.mat',\n",
              " 'IPHONE600221.mat',\n",
              " 'IPHONE600223.mat',\n",
              " 'IPHONE600224.mat',\n",
              " 'IPHONE600225.mat',\n",
              " 'IPHONE600227.mat',\n",
              " 'IPHONE600228.mat',\n",
              " 'IPHONE600229.mat',\n",
              " 'IPHONE600231.mat',\n",
              " 'IPHONE600232.mat',\n",
              " 'IPHONE600233.mat',\n",
              " 'IPHONE600235.mat',\n",
              " 'IPHONE600236.mat',\n",
              " 'IPHONE600237.mat',\n",
              " 'IPHONE600239.mat',\n",
              " 'IPHONE600240.mat',\n",
              " 'IPHONE600241.mat',\n",
              " 'IPHONE600243.mat',\n",
              " 'IPHONE600245.mat',\n",
              " 'IPHONE600246.mat',\n",
              " 'IPHONE600248.mat',\n",
              " 'IPHONE600249.mat',\n",
              " 'IPHONE600251.mat',\n",
              " 'IPHONE600252.mat',\n",
              " 'IPHONE600254.mat',\n",
              " 'IPHONE600255.mat',\n",
              " 'IPHONE600257.mat',\n",
              " 'IPHONE600258.mat',\n",
              " 'IPHONE600259.mat',\n",
              " 'IPHONE600261.mat',\n",
              " 'IPHONE600262.mat',\n",
              " 'IPHONE600263.mat',\n",
              " 'IPHONE600265.mat',\n",
              " 'IPHONE600266.mat',\n",
              " 'IPHONE600268.mat',\n",
              " 'IPHONE600269.mat',\n",
              " 'IPHONE600271.mat',\n",
              " 'IPHONE600272.mat',\n",
              " 'IPHONE600274.mat',\n",
              " 'IPHONE600275.mat',\n",
              " 'IPHONE600276.mat',\n",
              " 'IPHONE600278.mat',\n",
              " 'IPHONE600279.mat',\n",
              " 'IPHONE600281.mat',\n",
              " 'IPHONE600282.mat',\n",
              " 'IPHONE600283.mat',\n",
              " 'IPHONE600284.mat',\n",
              " 'IPHONE600285.mat',\n",
              " 'IPHONE600286.mat',\n",
              " 'IPHONE600287.mat',\n",
              " 'IPHONE600288.mat',\n",
              " 'IPHONE600289.mat',\n",
              " 'IPHONE600290.mat',\n",
              " 'IPHONE600291.mat',\n",
              " 'IPHONE600293.mat',\n",
              " 'IPHONE600294.mat',\n",
              " 'IPHONE600295.mat',\n",
              " 'IPHONE600297.mat',\n",
              " 'IPHONE600298.mat',\n",
              " 'IPHONE600299.mat',\n",
              " 'IPHONE600300.mat',\n",
              " 'IPHONE600301.mat',\n",
              " 'IPHONE600302.mat',\n",
              " 'IPHONE600304.mat',\n",
              " 'IPHONE600305.mat',\n",
              " 'IPHONE600306.mat',\n",
              " 'IPHONE600307.mat',\n",
              " 'IPHONE600309.mat',\n",
              " 'IPHONE600310.mat',\n",
              " 'IPHONE600311.mat',\n",
              " 'IPHONE600312.mat',\n",
              " 'IPHONE600320.mat',\n",
              " 'IPHONE600321.mat',\n",
              " 'IPHONE600322.mat',\n",
              " 'IPHONE600323.mat',\n",
              " 'IPHONE600324.mat',\n",
              " 'IPHONE600326.mat',\n",
              " 'IPHONE600329.mat',\n",
              " 'IPHONE600336.mat',\n",
              " 'IPHONE600337.mat',\n",
              " 'IPHONE600339.mat',\n",
              " 'IPHONE600340.mat',\n",
              " 'IPHONE600346.mat',\n",
              " 'IPHONE600347.mat',\n",
              " 'IPHONE600349.mat',\n",
              " 'IPHONE600351.mat',\n",
              " 'IPHONE600353.mat',\n",
              " 'IPHONE600354.mat',\n",
              " 'IPHONE600356.mat',\n",
              " 'IPHONE600357.mat',\n",
              " 'IPHONE600359.mat',\n",
              " 'IPHONE600360.mat',\n",
              " 'IPHONE600361.mat',\n",
              " 'IPHONE600363.mat',\n",
              " 'IPHONE600364.mat',\n",
              " 'IPHONE600367.mat',\n",
              " 'IPHONE600368.mat',\n",
              " 'IPHONE600369.mat',\n",
              " 'IPHONE600370.mat',\n",
              " 'IPHONE600373.mat',\n",
              " 'IPHONE600374.mat',\n",
              " 'IPHONE600375.mat',\n",
              " 'IPHONE600377.mat',\n",
              " 'IPHONE600378.mat',\n",
              " 'IPHONE600381.mat',\n",
              " 'IPHONE600383.mat',\n",
              " 'IPHONE600384.mat',\n",
              " 'IPHONE600385.mat',\n",
              " 'IPHONE600387.mat',\n",
              " 'IPHONE600391.mat',\n",
              " 'IPHONE600392.mat',\n",
              " 'IPHONE600395.mat',\n",
              " 'IPHONE600397.mat',\n",
              " 'IPHONE600400.mat',\n",
              " 'IPHONE600405.mat',\n",
              " 'IPHONE600406.mat',\n",
              " 'IPHONE600407.mat',\n",
              " 'IPHONE600409.mat',\n",
              " 'IPHONE600412.mat',\n",
              " 'IPHONE600413.mat',\n",
              " 'IPHONE600414.mat',\n",
              " 'IPHONE600416.mat',\n",
              " 'IPHONE600417.mat',\n",
              " 'IPHONE600421.mat',\n",
              " 'IPHONE600422.mat',\n",
              " 'IPHONE600423.mat',\n",
              " 'IPHONE600425.mat',\n",
              " 'IPHONE600427.mat',\n",
              " 'IPHONE600429.mat',\n",
              " 'IPHONE600431.mat',\n",
              " 'IPHONE600432.mat',\n",
              " 'IPHONE600433.mat',\n",
              " 'IPHONE600435.mat',\n",
              " 'IPHONE600436.mat',\n",
              " 'IPHONE600439.mat',\n",
              " 'IPHONE600440.mat',\n",
              " 'IPHONE600441.mat',\n",
              " 'IPHONE600443.mat',\n",
              " 'IPHONE600444.mat',\n",
              " 'IPHONE600445.mat',\n",
              " 'IPHONE600447.mat',\n",
              " 'IPHONE600448.mat',\n",
              " 'IPHONE600450.mat',\n",
              " 'IPHONE600451.mat',\n",
              " 'IPHONE600452.mat',\n",
              " 'IPHONE600454.mat',\n",
              " 'IPHONE600455.mat',\n",
              " 'IPHONE600456.mat',\n",
              " 'IPHONE600458.mat',\n",
              " 'IPHONE600460.mat',\n",
              " 'IPHONE600461.mat',\n",
              " 'IPHONE600463.mat',\n",
              " 'IPHONE600464.mat',\n",
              " 'IPHONE600465.mat',\n",
              " 'IPHONE600467.mat',\n",
              " 'IPHONE600468.mat',\n",
              " 'IPHONE600469.mat',\n",
              " 'IPHONE600471.mat',\n",
              " 'IPHONE600472.mat',\n",
              " 'IPHONE600473.mat',\n",
              " 'IPHONE600474.mat',\n",
              " 'IPHONE600480.mat',\n",
              " 'IPHONE600481.mat',\n",
              " 'IPHONE600483.mat',\n",
              " 'IPHONE600484.mat',\n",
              " 'IPHONE600487.mat',\n",
              " 'IPHONE600489.mat',\n",
              " 'IPHONE600491.mat',\n",
              " 'IPHONE600492.mat',\n",
              " 'IPHONE600493.mat',\n",
              " 'IPHONE600495.mat',\n",
              " 'IPHONE600496.mat',\n",
              " 'IPHONE600497.mat',\n",
              " 'IPHONE600499.mat',\n",
              " 'IPHONE600501.mat',\n",
              " 'IPHONE600502.mat',\n",
              " 'IPHONE600504.mat',\n",
              " 'IPHONE600505.mat',\n",
              " 'IPHONE600506.mat',\n",
              " 'IPHONE600507.mat',\n",
              " 'IPHONE600508.mat',\n",
              " 'IPHONE600510.mat',\n",
              " 'IPHONE600511.mat',\n",
              " 'IPHONE600513.mat',\n",
              " 'IPHONE600514.mat',\n",
              " 'IPHONE600516.mat',\n",
              " 'IPHONE600517.mat',\n",
              " 'IPHONE600519.mat',\n",
              " 'IPHONE600520.mat',\n",
              " 'IPHONE600521.mat',\n",
              " 'IPHONE600523.mat',\n",
              " 'IPHONE600525.mat',\n",
              " 'IPHONE600526.mat']"
            ]
          },
          "execution_count": 20,
          "metadata": {},
          "output_type": "execute_result"
        }
      ],
      "source": [
        "os.listdir(path)"
      ]
    },
    {
      "cell_type": "code",
      "execution_count": null,
      "id": "7a881fda",
      "metadata": {
        "id": "7a881fda",
        "outputId": "6217ef01-3662-40f8-ed7a-ff0ca6939cee"
      },
      "outputs": [
        {
          "data": {
            "text/plain": [
              "'IPHONE600004.mat'"
            ]
          },
          "execution_count": 23,
          "metadata": {},
          "output_type": "execute_result"
        }
      ],
      "source": []
    },
    {
      "cell_type": "code",
      "execution_count": null,
      "id": "6982190a",
      "metadata": {
        "id": "6982190a",
        "outputId": "04f388d9-a636-438a-e032-51ad8cd81eb9"
      },
      "outputs": [
        {
          "name": "stdout",
          "output_type": "stream",
          "text": [
            "*** Feature extraction started ***\n"
          ]
        },
        {
          "name": "stderr",
          "output_type": "stream",
          "text": [
            "C:\\Users\\student\\AppData\\Local\\Temp\\ipykernel_5008\\722510806.py:40: UserWarning: Using default sampling frequency set in configuration file.\n",
            "  KcAstat = tsfel.time_series_features_extractor(cfgstat, cA, window_size=2500)\n"
          ]
        },
        {
          "data": {
            "text/html": [
              "\n",
              "              <p>\n",
              "                  Progress: 100% Complete\n",
              "              <p/>            \n",
              "              <progress\n",
              "                  value='1000'\n",
              "                  max='1000',\n",
              "                  style='width: 25%',\n",
              "              >\n",
              "                  1000\n",
              "              </progress>\n",
              "\n",
              "    "
            ],
            "text/plain": [
              "<IPython.core.display.HTML object>"
            ]
          },
          "metadata": {},
          "output_type": "display_data"
        },
        {
          "name": "stdout",
          "output_type": "stream",
          "text": [
            "\n",
            "*** Feature extraction finished ***\n",
            "*** Feature extraction started ***\n"
          ]
        },
        {
          "name": "stderr",
          "output_type": "stream",
          "text": [
            "C:\\Users\\student\\AppData\\Local\\Temp\\ipykernel_5008\\722510806.py:41: UserWarning: Using default sampling frequency set in configuration file.\n",
            "  KcAspec = tsfel.time_series_features_extractor(cfgspec, cA, window_size=2500)\n"
          ]
        },
        {
          "data": {
            "text/html": [
              "\n",
              "              <p>\n",
              "                  Progress: 100% Complete\n",
              "              <p/>            \n",
              "              <progress\n",
              "                  value='1000'\n",
              "                  max='1000',\n",
              "                  style='width: 25%',\n",
              "              >\n",
              "                  1000\n",
              "              </progress>\n",
              "\n",
              "    "
            ],
            "text/plain": [
              "<IPython.core.display.HTML object>"
            ]
          },
          "metadata": {},
          "output_type": "display_data"
        },
        {
          "name": "stdout",
          "output_type": "stream",
          "text": [
            "\n",
            "*** Feature extraction finished ***\n",
            "*** Feature extraction started ***\n"
          ]
        },
        {
          "name": "stderr",
          "output_type": "stream",
          "text": [
            "C:\\Users\\student\\AppData\\Local\\Temp\\ipykernel_5008\\722510806.py:51: UserWarning: Using default sampling frequency set in configuration file.\n",
            "  KcDstat = tsfel.time_series_features_extractor(cfgstat, cD, window_size=2500)\n"
          ]
        },
        {
          "data": {
            "text/html": [
              "\n",
              "              <p>\n",
              "                  Progress: 100% Complete\n",
              "              <p/>            \n",
              "              <progress\n",
              "                  value='1000'\n",
              "                  max='1000',\n",
              "                  style='width: 25%',\n",
              "              >\n",
              "                  1000\n",
              "              </progress>\n",
              "\n",
              "    "
            ],
            "text/plain": [
              "<IPython.core.display.HTML object>"
            ]
          },
          "metadata": {},
          "output_type": "display_data"
        },
        {
          "name": "stdout",
          "output_type": "stream",
          "text": [
            "\n",
            "*** Feature extraction finished ***\n",
            "*** Feature extraction started ***\n"
          ]
        },
        {
          "name": "stderr",
          "output_type": "stream",
          "text": [
            "C:\\Users\\student\\AppData\\Local\\Temp\\ipykernel_5008\\722510806.py:52: UserWarning: Using default sampling frequency set in configuration file.\n",
            "  KcDspec = tsfel.time_series_features_extractor(cfgspec, cD, window_size=2500)\n"
          ]
        },
        {
          "data": {
            "text/html": [
              "\n",
              "              <p>\n",
              "                  Progress: 100% Complete\n",
              "              <p/>            \n",
              "              <progress\n",
              "                  value='1000'\n",
              "                  max='1000',\n",
              "                  style='width: 25%',\n",
              "              >\n",
              "                  1000\n",
              "              </progress>\n",
              "\n",
              "    "
            ],
            "text/plain": [
              "<IPython.core.display.HTML object>"
            ]
          },
          "metadata": {},
          "output_type": "display_data"
        },
        {
          "name": "stdout",
          "output_type": "stream",
          "text": [
            "\n",
            "*** Feature extraction finished ***\n",
            "*** Feature extraction started ***\n"
          ]
        },
        {
          "name": "stderr",
          "output_type": "stream",
          "text": [
            "C:\\Users\\student\\AppData\\Local\\Temp\\ipykernel_5008\\722510806.py:40: UserWarning: Using default sampling frequency set in configuration file.\n",
            "  KcAstat = tsfel.time_series_features_extractor(cfgstat, cA, window_size=2500)\n"
          ]
        },
        {
          "data": {
            "text/html": [
              "\n",
              "              <p>\n",
              "                  Progress: 100% Complete\n",
              "              <p/>            \n",
              "              <progress\n",
              "                  value='1000'\n",
              "                  max='1000',\n",
              "                  style='width: 25%',\n",
              "              >\n",
              "                  1000\n",
              "              </progress>\n",
              "\n",
              "    "
            ],
            "text/plain": [
              "<IPython.core.display.HTML object>"
            ]
          },
          "metadata": {},
          "output_type": "display_data"
        },
        {
          "name": "stdout",
          "output_type": "stream",
          "text": [
            "\n",
            "*** Feature extraction finished ***\n",
            "*** Feature extraction started ***\n"
          ]
        },
        {
          "name": "stderr",
          "output_type": "stream",
          "text": [
            "C:\\Users\\student\\AppData\\Local\\Temp\\ipykernel_5008\\722510806.py:41: UserWarning: Using default sampling frequency set in configuration file.\n",
            "  KcAspec = tsfel.time_series_features_extractor(cfgspec, cA, window_size=2500)\n"
          ]
        },
        {
          "data": {
            "text/html": [
              "\n",
              "              <p>\n",
              "                  Progress: 100% Complete\n",
              "              <p/>            \n",
              "              <progress\n",
              "                  value='1000'\n",
              "                  max='1000',\n",
              "                  style='width: 25%',\n",
              "              >\n",
              "                  1000\n",
              "              </progress>\n",
              "\n",
              "    "
            ],
            "text/plain": [
              "<IPython.core.display.HTML object>"
            ]
          },
          "metadata": {},
          "output_type": "display_data"
        },
        {
          "name": "stdout",
          "output_type": "stream",
          "text": [
            "\n",
            "*** Feature extraction finished ***\n",
            "*** Feature extraction started ***\n"
          ]
        },
        {
          "name": "stderr",
          "output_type": "stream",
          "text": [
            "C:\\Users\\student\\AppData\\Local\\Temp\\ipykernel_5008\\722510806.py:51: UserWarning: Using default sampling frequency set in configuration file.\n",
            "  KcDstat = tsfel.time_series_features_extractor(cfgstat, cD, window_size=2500)\n"
          ]
        },
        {
          "data": {
            "text/html": [
              "\n",
              "              <p>\n",
              "                  Progress: 100% Complete\n",
              "              <p/>            \n",
              "              <progress\n",
              "                  value='1000'\n",
              "                  max='1000',\n",
              "                  style='width: 25%',\n",
              "              >\n",
              "                  1000\n",
              "              </progress>\n",
              "\n",
              "    "
            ],
            "text/plain": [
              "<IPython.core.display.HTML object>"
            ]
          },
          "metadata": {},
          "output_type": "display_data"
        },
        {
          "name": "stdout",
          "output_type": "stream",
          "text": [
            "\n",
            "*** Feature extraction finished ***\n",
            "*** Feature extraction started ***\n"
          ]
        },
        {
          "name": "stderr",
          "output_type": "stream",
          "text": [
            "C:\\Users\\student\\AppData\\Local\\Temp\\ipykernel_5008\\722510806.py:52: UserWarning: Using default sampling frequency set in configuration file.\n",
            "  KcDspec = tsfel.time_series_features_extractor(cfgspec, cD, window_size=2500)\n"
          ]
        },
        {
          "data": {
            "text/html": [
              "\n",
              "              <p>\n",
              "                  Progress: 100% Complete\n",
              "              <p/>            \n",
              "              <progress\n",
              "                  value='1000'\n",
              "                  max='1000',\n",
              "                  style='width: 25%',\n",
              "              >\n",
              "                  1000\n",
              "              </progress>\n",
              "\n",
              "    "
            ],
            "text/plain": [
              "<IPython.core.display.HTML object>"
            ]
          },
          "metadata": {},
          "output_type": "display_data"
        },
        {
          "name": "stdout",
          "output_type": "stream",
          "text": [
            "\n",
            "*** Feature extraction finished ***\n",
            "*** Feature extraction started ***\n"
          ]
        },
        {
          "name": "stderr",
          "output_type": "stream",
          "text": [
            "C:\\Users\\student\\AppData\\Local\\Temp\\ipykernel_5008\\722510806.py:40: UserWarning: Using default sampling frequency set in configuration file.\n",
            "  KcAstat = tsfel.time_series_features_extractor(cfgstat, cA, window_size=2500)\n"
          ]
        },
        {
          "data": {
            "text/html": [
              "\n",
              "              <p>\n",
              "                  Progress: 100% Complete\n",
              "              <p/>            \n",
              "              <progress\n",
              "                  value='1000'\n",
              "                  max='1000',\n",
              "                  style='width: 25%',\n",
              "              >\n",
              "                  1000\n",
              "              </progress>\n",
              "\n",
              "    "
            ],
            "text/plain": [
              "<IPython.core.display.HTML object>"
            ]
          },
          "metadata": {},
          "output_type": "display_data"
        },
        {
          "name": "stdout",
          "output_type": "stream",
          "text": [
            "\n",
            "*** Feature extraction finished ***\n",
            "*** Feature extraction started ***\n"
          ]
        },
        {
          "name": "stderr",
          "output_type": "stream",
          "text": [
            "C:\\Users\\student\\AppData\\Local\\Temp\\ipykernel_5008\\722510806.py:41: UserWarning: Using default sampling frequency set in configuration file.\n",
            "  KcAspec = tsfel.time_series_features_extractor(cfgspec, cA, window_size=2500)\n"
          ]
        },
        {
          "data": {
            "text/html": [
              "\n",
              "              <p>\n",
              "                  Progress: 100% Complete\n",
              "              <p/>            \n",
              "              <progress\n",
              "                  value='1000'\n",
              "                  max='1000',\n",
              "                  style='width: 25%',\n",
              "              >\n",
              "                  1000\n",
              "              </progress>\n",
              "\n",
              "    "
            ],
            "text/plain": [
              "<IPython.core.display.HTML object>"
            ]
          },
          "metadata": {},
          "output_type": "display_data"
        },
        {
          "name": "stdout",
          "output_type": "stream",
          "text": [
            "\n",
            "*** Feature extraction finished ***\n",
            "*** Feature extraction started ***\n"
          ]
        },
        {
          "name": "stderr",
          "output_type": "stream",
          "text": [
            "C:\\Users\\student\\AppData\\Local\\Temp\\ipykernel_5008\\722510806.py:51: UserWarning: Using default sampling frequency set in configuration file.\n",
            "  KcDstat = tsfel.time_series_features_extractor(cfgstat, cD, window_size=2500)\n"
          ]
        },
        {
          "data": {
            "text/html": [
              "\n",
              "              <p>\n",
              "                  Progress: 100% Complete\n",
              "              <p/>            \n",
              "              <progress\n",
              "                  value='1000'\n",
              "                  max='1000',\n",
              "                  style='width: 25%',\n",
              "              >\n",
              "                  1000\n",
              "              </progress>\n",
              "\n",
              "    "
            ],
            "text/plain": [
              "<IPython.core.display.HTML object>"
            ]
          },
          "metadata": {},
          "output_type": "display_data"
        },
        {
          "name": "stdout",
          "output_type": "stream",
          "text": [
            "\n",
            "*** Feature extraction finished ***\n",
            "*** Feature extraction started ***\n"
          ]
        },
        {
          "name": "stderr",
          "output_type": "stream",
          "text": [
            "C:\\Users\\student\\AppData\\Local\\Temp\\ipykernel_5008\\722510806.py:52: UserWarning: Using default sampling frequency set in configuration file.\n",
            "  KcDspec = tsfel.time_series_features_extractor(cfgspec, cD, window_size=2500)\n"
          ]
        },
        {
          "data": {
            "text/html": [
              "\n",
              "              <p>\n",
              "                  Progress: 100% Complete\n",
              "              <p/>            \n",
              "              <progress\n",
              "                  value='1000'\n",
              "                  max='1000',\n",
              "                  style='width: 25%',\n",
              "              >\n",
              "                  1000\n",
              "              </progress>\n",
              "\n",
              "    "
            ],
            "text/plain": [
              "<IPython.core.display.HTML object>"
            ]
          },
          "metadata": {},
          "output_type": "display_data"
        },
        {
          "name": "stdout",
          "output_type": "stream",
          "text": [
            "\n",
            "*** Feature extraction finished ***\n",
            "*** Feature extraction started ***\n"
          ]
        },
        {
          "name": "stderr",
          "output_type": "stream",
          "text": [
            "C:\\Users\\student\\AppData\\Local\\Temp\\ipykernel_5008\\722510806.py:40: UserWarning: Using default sampling frequency set in configuration file.\n",
            "  KcAstat = tsfel.time_series_features_extractor(cfgstat, cA, window_size=2500)\n"
          ]
        },
        {
          "data": {
            "text/html": [
              "\n",
              "              <p>\n",
              "                  Progress: 100% Complete\n",
              "              <p/>            \n",
              "              <progress\n",
              "                  value='1000'\n",
              "                  max='1000',\n",
              "                  style='width: 25%',\n",
              "              >\n",
              "                  1000\n",
              "              </progress>\n",
              "\n",
              "    "
            ],
            "text/plain": [
              "<IPython.core.display.HTML object>"
            ]
          },
          "metadata": {},
          "output_type": "display_data"
        },
        {
          "name": "stdout",
          "output_type": "stream",
          "text": [
            "\n",
            "*** Feature extraction finished ***\n",
            "*** Feature extraction started ***\n"
          ]
        },
        {
          "name": "stderr",
          "output_type": "stream",
          "text": [
            "C:\\Users\\student\\AppData\\Local\\Temp\\ipykernel_5008\\722510806.py:41: UserWarning: Using default sampling frequency set in configuration file.\n",
            "  KcAspec = tsfel.time_series_features_extractor(cfgspec, cA, window_size=2500)\n"
          ]
        },
        {
          "data": {
            "text/html": [
              "\n",
              "              <p>\n",
              "                  Progress: 100% Complete\n",
              "              <p/>            \n",
              "              <progress\n",
              "                  value='1000'\n",
              "                  max='1000',\n",
              "                  style='width: 25%',\n",
              "              >\n",
              "                  1000\n",
              "              </progress>\n",
              "\n",
              "    "
            ],
            "text/plain": [
              "<IPython.core.display.HTML object>"
            ]
          },
          "metadata": {},
          "output_type": "display_data"
        },
        {
          "name": "stdout",
          "output_type": "stream",
          "text": [
            "\n",
            "*** Feature extraction finished ***\n",
            "*** Feature extraction started ***\n"
          ]
        },
        {
          "name": "stderr",
          "output_type": "stream",
          "text": [
            "C:\\Users\\student\\AppData\\Local\\Temp\\ipykernel_5008\\722510806.py:51: UserWarning: Using default sampling frequency set in configuration file.\n",
            "  KcDstat = tsfel.time_series_features_extractor(cfgstat, cD, window_size=2500)\n"
          ]
        },
        {
          "data": {
            "text/html": [
              "\n",
              "              <p>\n",
              "                  Progress: 100% Complete\n",
              "              <p/>            \n",
              "              <progress\n",
              "                  value='1000'\n",
              "                  max='1000',\n",
              "                  style='width: 25%',\n",
              "              >\n",
              "                  1000\n",
              "              </progress>\n",
              "\n",
              "    "
            ],
            "text/plain": [
              "<IPython.core.display.HTML object>"
            ]
          },
          "metadata": {},
          "output_type": "display_data"
        },
        {
          "name": "stdout",
          "output_type": "stream",
          "text": [
            "\n",
            "*** Feature extraction finished ***\n",
            "*** Feature extraction started ***\n"
          ]
        },
        {
          "name": "stderr",
          "output_type": "stream",
          "text": [
            "C:\\Users\\student\\AppData\\Local\\Temp\\ipykernel_5008\\722510806.py:52: UserWarning: Using default sampling frequency set in configuration file.\n",
            "  KcDspec = tsfel.time_series_features_extractor(cfgspec, cD, window_size=2500)\n"
          ]
        },
        {
          "data": {
            "text/html": [
              "\n",
              "              <p>\n",
              "                  Progress: 100% Complete\n",
              "              <p/>            \n",
              "              <progress\n",
              "                  value='1000'\n",
              "                  max='1000',\n",
              "                  style='width: 25%',\n",
              "              >\n",
              "                  1000\n",
              "              </progress>\n",
              "\n",
              "    "
            ],
            "text/plain": [
              "<IPython.core.display.HTML object>"
            ]
          },
          "metadata": {},
          "output_type": "display_data"
        },
        {
          "name": "stdout",
          "output_type": "stream",
          "text": [
            "\n",
            "*** Feature extraction finished ***\n",
            "*** Feature extraction started ***\n"
          ]
        },
        {
          "name": "stderr",
          "output_type": "stream",
          "text": [
            "C:\\Users\\student\\AppData\\Local\\Temp\\ipykernel_5008\\722510806.py:40: UserWarning: Using default sampling frequency set in configuration file.\n",
            "  KcAstat = tsfel.time_series_features_extractor(cfgstat, cA, window_size=2500)\n"
          ]
        },
        {
          "data": {
            "text/html": [
              "\n",
              "              <p>\n",
              "                  Progress: 100% Complete\n",
              "              <p/>            \n",
              "              <progress\n",
              "                  value='1000'\n",
              "                  max='1000',\n",
              "                  style='width: 25%',\n",
              "              >\n",
              "                  1000\n",
              "              </progress>\n",
              "\n",
              "    "
            ],
            "text/plain": [
              "<IPython.core.display.HTML object>"
            ]
          },
          "metadata": {},
          "output_type": "display_data"
        },
        {
          "name": "stdout",
          "output_type": "stream",
          "text": [
            "\n",
            "*** Feature extraction finished ***\n",
            "*** Feature extraction started ***\n"
          ]
        },
        {
          "name": "stderr",
          "output_type": "stream",
          "text": [
            "C:\\Users\\student\\AppData\\Local\\Temp\\ipykernel_5008\\722510806.py:41: UserWarning: Using default sampling frequency set in configuration file.\n",
            "  KcAspec = tsfel.time_series_features_extractor(cfgspec, cA, window_size=2500)\n"
          ]
        },
        {
          "data": {
            "text/html": [
              "\n",
              "              <p>\n",
              "                  Progress: 100% Complete\n",
              "              <p/>            \n",
              "              <progress\n",
              "                  value='1000'\n",
              "                  max='1000',\n",
              "                  style='width: 25%',\n",
              "              >\n",
              "                  1000\n",
              "              </progress>\n",
              "\n",
              "    "
            ],
            "text/plain": [
              "<IPython.core.display.HTML object>"
            ]
          },
          "metadata": {},
          "output_type": "display_data"
        },
        {
          "name": "stdout",
          "output_type": "stream",
          "text": [
            "\n",
            "*** Feature extraction finished ***\n",
            "*** Feature extraction started ***\n"
          ]
        },
        {
          "name": "stderr",
          "output_type": "stream",
          "text": [
            "C:\\Users\\student\\AppData\\Local\\Temp\\ipykernel_5008\\722510806.py:51: UserWarning: Using default sampling frequency set in configuration file.\n",
            "  KcDstat = tsfel.time_series_features_extractor(cfgstat, cD, window_size=2500)\n"
          ]
        },
        {
          "data": {
            "text/html": [
              "\n",
              "              <p>\n",
              "                  Progress: 100% Complete\n",
              "              <p/>            \n",
              "              <progress\n",
              "                  value='1000'\n",
              "                  max='1000',\n",
              "                  style='width: 25%',\n",
              "              >\n",
              "                  1000\n",
              "              </progress>\n",
              "\n",
              "    "
            ],
            "text/plain": [
              "<IPython.core.display.HTML object>"
            ]
          },
          "metadata": {},
          "output_type": "display_data"
        },
        {
          "name": "stdout",
          "output_type": "stream",
          "text": [
            "\n",
            "*** Feature extraction finished ***\n",
            "*** Feature extraction started ***\n"
          ]
        },
        {
          "name": "stderr",
          "output_type": "stream",
          "text": [
            "C:\\Users\\student\\AppData\\Local\\Temp\\ipykernel_5008\\722510806.py:52: UserWarning: Using default sampling frequency set in configuration file.\n",
            "  KcDspec = tsfel.time_series_features_extractor(cfgspec, cD, window_size=2500)\n"
          ]
        },
        {
          "data": {
            "text/html": [
              "\n",
              "              <p>\n",
              "                  Progress: 100% Complete\n",
              "              <p/>            \n",
              "              <progress\n",
              "                  value='1000'\n",
              "                  max='1000',\n",
              "                  style='width: 25%',\n",
              "              >\n",
              "                  1000\n",
              "              </progress>\n",
              "\n",
              "    "
            ],
            "text/plain": [
              "<IPython.core.display.HTML object>"
            ]
          },
          "metadata": {},
          "output_type": "display_data"
        },
        {
          "name": "stdout",
          "output_type": "stream",
          "text": [
            "\n",
            "*** Feature extraction finished ***\n",
            "*** Feature extraction started ***\n"
          ]
        },
        {
          "name": "stderr",
          "output_type": "stream",
          "text": [
            "C:\\Users\\student\\AppData\\Local\\Temp\\ipykernel_5008\\722510806.py:40: UserWarning: Using default sampling frequency set in configuration file.\n",
            "  KcAstat = tsfel.time_series_features_extractor(cfgstat, cA, window_size=2500)\n"
          ]
        },
        {
          "data": {
            "text/html": [
              "\n",
              "              <p>\n",
              "                  Progress: 100% Complete\n",
              "              <p/>            \n",
              "              <progress\n",
              "                  value='1000'\n",
              "                  max='1000',\n",
              "                  style='width: 25%',\n",
              "              >\n",
              "                  1000\n",
              "              </progress>\n",
              "\n",
              "    "
            ],
            "text/plain": [
              "<IPython.core.display.HTML object>"
            ]
          },
          "metadata": {},
          "output_type": "display_data"
        },
        {
          "name": "stdout",
          "output_type": "stream",
          "text": [
            "\n",
            "*** Feature extraction finished ***\n",
            "*** Feature extraction started ***\n"
          ]
        },
        {
          "name": "stderr",
          "output_type": "stream",
          "text": [
            "C:\\Users\\student\\AppData\\Local\\Temp\\ipykernel_5008\\722510806.py:41: UserWarning: Using default sampling frequency set in configuration file.\n",
            "  KcAspec = tsfel.time_series_features_extractor(cfgspec, cA, window_size=2500)\n"
          ]
        },
        {
          "data": {
            "text/html": [
              "\n",
              "              <p>\n",
              "                  Progress: 100% Complete\n",
              "              <p/>            \n",
              "              <progress\n",
              "                  value='1000'\n",
              "                  max='1000',\n",
              "                  style='width: 25%',\n",
              "              >\n",
              "                  1000\n",
              "              </progress>\n",
              "\n",
              "    "
            ],
            "text/plain": [
              "<IPython.core.display.HTML object>"
            ]
          },
          "metadata": {},
          "output_type": "display_data"
        },
        {
          "name": "stdout",
          "output_type": "stream",
          "text": [
            "\n",
            "*** Feature extraction finished ***\n",
            "*** Feature extraction started ***\n"
          ]
        },
        {
          "name": "stderr",
          "output_type": "stream",
          "text": [
            "C:\\Users\\student\\AppData\\Local\\Temp\\ipykernel_5008\\722510806.py:51: UserWarning: Using default sampling frequency set in configuration file.\n",
            "  KcDstat = tsfel.time_series_features_extractor(cfgstat, cD, window_size=2500)\n"
          ]
        },
        {
          "data": {
            "text/html": [
              "\n",
              "              <p>\n",
              "                  Progress: 100% Complete\n",
              "              <p/>            \n",
              "              <progress\n",
              "                  value='1000'\n",
              "                  max='1000',\n",
              "                  style='width: 25%',\n",
              "              >\n",
              "                  1000\n",
              "              </progress>\n",
              "\n",
              "    "
            ],
            "text/plain": [
              "<IPython.core.display.HTML object>"
            ]
          },
          "metadata": {},
          "output_type": "display_data"
        },
        {
          "name": "stdout",
          "output_type": "stream",
          "text": [
            "\n",
            "*** Feature extraction finished ***\n",
            "*** Feature extraction started ***\n"
          ]
        },
        {
          "name": "stderr",
          "output_type": "stream",
          "text": [
            "C:\\Users\\student\\AppData\\Local\\Temp\\ipykernel_5008\\722510806.py:52: UserWarning: Using default sampling frequency set in configuration file.\n",
            "  KcDspec = tsfel.time_series_features_extractor(cfgspec, cD, window_size=2500)\n"
          ]
        },
        {
          "data": {
            "text/html": [
              "\n",
              "              <p>\n",
              "                  Progress: 100% Complete\n",
              "              <p/>            \n",
              "              <progress\n",
              "                  value='1000'\n",
              "                  max='1000',\n",
              "                  style='width: 25%',\n",
              "              >\n",
              "                  1000\n",
              "              </progress>\n",
              "\n",
              "    "
            ],
            "text/plain": [
              "<IPython.core.display.HTML object>"
            ]
          },
          "metadata": {},
          "output_type": "display_data"
        },
        {
          "name": "stdout",
          "output_type": "stream",
          "text": [
            "\n",
            "*** Feature extraction finished ***\n",
            "*** Feature extraction started ***\n"
          ]
        },
        {
          "name": "stderr",
          "output_type": "stream",
          "text": [
            "C:\\Users\\student\\AppData\\Local\\Temp\\ipykernel_5008\\722510806.py:40: UserWarning: Using default sampling frequency set in configuration file.\n",
            "  KcAstat = tsfel.time_series_features_extractor(cfgstat, cA, window_size=2500)\n"
          ]
        },
        {
          "data": {
            "text/html": [
              "\n",
              "              <p>\n",
              "                  Progress: 100% Complete\n",
              "              <p/>            \n",
              "              <progress\n",
              "                  value='1000'\n",
              "                  max='1000',\n",
              "                  style='width: 25%',\n",
              "              >\n",
              "                  1000\n",
              "              </progress>\n",
              "\n",
              "    "
            ],
            "text/plain": [
              "<IPython.core.display.HTML object>"
            ]
          },
          "metadata": {},
          "output_type": "display_data"
        },
        {
          "name": "stdout",
          "output_type": "stream",
          "text": [
            "\n",
            "*** Feature extraction finished ***\n",
            "*** Feature extraction started ***\n"
          ]
        },
        {
          "name": "stderr",
          "output_type": "stream",
          "text": [
            "C:\\Users\\student\\AppData\\Local\\Temp\\ipykernel_5008\\722510806.py:41: UserWarning: Using default sampling frequency set in configuration file.\n",
            "  KcAspec = tsfel.time_series_features_extractor(cfgspec, cA, window_size=2500)\n"
          ]
        },
        {
          "data": {
            "text/html": [
              "\n",
              "              <p>\n",
              "                  Progress: 100% Complete\n",
              "              <p/>            \n",
              "              <progress\n",
              "                  value='1000'\n",
              "                  max='1000',\n",
              "                  style='width: 25%',\n",
              "              >\n",
              "                  1000\n",
              "              </progress>\n",
              "\n",
              "    "
            ],
            "text/plain": [
              "<IPython.core.display.HTML object>"
            ]
          },
          "metadata": {},
          "output_type": "display_data"
        },
        {
          "name": "stdout",
          "output_type": "stream",
          "text": [
            "\n",
            "*** Feature extraction finished ***\n",
            "*** Feature extraction started ***\n"
          ]
        },
        {
          "name": "stderr",
          "output_type": "stream",
          "text": [
            "C:\\Users\\student\\AppData\\Local\\Temp\\ipykernel_5008\\722510806.py:51: UserWarning: Using default sampling frequency set in configuration file.\n",
            "  KcDstat = tsfel.time_series_features_extractor(cfgstat, cD, window_size=2500)\n"
          ]
        },
        {
          "data": {
            "text/html": [
              "\n",
              "              <p>\n",
              "                  Progress: 100% Complete\n",
              "              <p/>            \n",
              "              <progress\n",
              "                  value='1000'\n",
              "                  max='1000',\n",
              "                  style='width: 25%',\n",
              "              >\n",
              "                  1000\n",
              "              </progress>\n",
              "\n",
              "    "
            ],
            "text/plain": [
              "<IPython.core.display.HTML object>"
            ]
          },
          "metadata": {},
          "output_type": "display_data"
        },
        {
          "name": "stdout",
          "output_type": "stream",
          "text": [
            "\n",
            "*** Feature extraction finished ***\n",
            "*** Feature extraction started ***\n"
          ]
        },
        {
          "name": "stderr",
          "output_type": "stream",
          "text": [
            "C:\\Users\\student\\AppData\\Local\\Temp\\ipykernel_5008\\722510806.py:52: UserWarning: Using default sampling frequency set in configuration file.\n",
            "  KcDspec = tsfel.time_series_features_extractor(cfgspec, cD, window_size=2500)\n"
          ]
        },
        {
          "data": {
            "text/html": [
              "\n",
              "              <p>\n",
              "                  Progress: 100% Complete\n",
              "              <p/>            \n",
              "              <progress\n",
              "                  value='1000'\n",
              "                  max='1000',\n",
              "                  style='width: 25%',\n",
              "              >\n",
              "                  1000\n",
              "              </progress>\n",
              "\n",
              "    "
            ],
            "text/plain": [
              "<IPython.core.display.HTML object>"
            ]
          },
          "metadata": {},
          "output_type": "display_data"
        },
        {
          "name": "stdout",
          "output_type": "stream",
          "text": [
            "\n",
            "*** Feature extraction finished ***\n",
            "*** Feature extraction started ***\n"
          ]
        },
        {
          "name": "stderr",
          "output_type": "stream",
          "text": [
            "C:\\Users\\student\\AppData\\Local\\Temp\\ipykernel_5008\\722510806.py:40: UserWarning: Using default sampling frequency set in configuration file.\n",
            "  KcAstat = tsfel.time_series_features_extractor(cfgstat, cA, window_size=2500)\n"
          ]
        },
        {
          "data": {
            "text/html": [
              "\n",
              "              <p>\n",
              "                  Progress: 0% Complete\n",
              "              <p/>            \n",
              "              <progress\n",
              "                  value='0'\n",
              "                  max='1000',\n",
              "                  style='width: 25%',\n",
              "              >\n",
              "                  0\n",
              "              </progress>\n",
              "\n",
              "    "
            ],
            "text/plain": [
              "<IPython.core.display.HTML object>"
            ]
          },
          "metadata": {},
          "output_type": "display_data"
        }
      ],
      "source": [
        "for m in os.listdir(path):\n",
        "    import mat73\n",
        "    annots = mat73.loadmat(r\"C:\\Users\\student\\Downloads\\APPLE_IPHONE6S\\APPLE_IPHONE6S\" + '/' + str(m))\n",
        "    li = annots['Channel_1']['Data']\n",
        "    b=annots['Channel_1']['Data']\n",
        "    a=b.tolist()\n",
        "    list1=[[],[]]\n",
        "    t=[]\n",
        "    for i in range(len(a)):\n",
        "      k=a[i];\n",
        "      t.append(k)\n",
        "      list1[0].append(i)\n",
        "      list1[1].append(k)\n",
        "    x = range(0,len(a))\n",
        "    cA, cD = pywt.dwt(t, 'haar')\n",
        "    bcA=cA\n",
        "    acA=bcA.tolist()\n",
        "    listcA=[[],[]]\n",
        "    tcA=[]\n",
        "    for i in range(len(acA)):\n",
        "      l=acA[i];\n",
        "      tcA.append(l)\n",
        "      listcA[0].append(i)\n",
        "      listcA[1].append(l)\n",
        "    xcA = range(0,len(acA))\n",
        "    bcD=cD\n",
        "    acD=bcD.tolist()\n",
        "    listcD=[[],[]]\n",
        "    tcD=[]\n",
        "    for i in range(len(acD)):\n",
        "      l=acD[i];\n",
        "      tcD.append(l)\n",
        "      listcD[0].append(i)\n",
        "      listcD[1].append(l)\n",
        "    xcD = range(0,len(acD))\n",
        "    df=pd.DataFrame(t, columns=['A'])\n",
        "    cfgstat = tsfel.get_features_by_domain('statistical')\n",
        "    cfgspec = tsfel.get_features_by_domain('spectral')\n",
        "    # Extract features\n",
        "    KcAstat = tsfel.time_series_features_extractor(cfgstat, cA, window_size=2500)\n",
        "    KcAspec = tsfel.time_series_features_extractor(cfgspec, cA, window_size=2500)\n",
        "    KcAstat.drop(['0_ECDF Percentile Count_0', '0_ECDF Percentile Count_1',\n",
        "       '0_ECDF Percentile_0', '0_ECDF Percentile_1', '0_ECDF_0', '0_ECDF_1',\n",
        "       '0_ECDF_2', '0_ECDF_3', '0_ECDF_4', '0_ECDF_5', '0_ECDF_6', '0_ECDF_7',\n",
        "       '0_ECDF_8', '0_ECDF_9', '0_Histogram_0', '0_Histogram_1',\n",
        "       '0_Histogram_2', '0_Histogram_3', '0_Histogram_4', '0_Histogram_5',\n",
        "       '0_Histogram_6', '0_Histogram_7', '0_Histogram_8', '0_Histogram_9',\n",
        "       '0_Interquartile range'],axis=1,inplace=True)\n",
        "    KcAstat.loc[:,'Labels'] = 'BLE-IPhone6S'\n",
        "    KcAspec.loc[:,'Labels'] = 'BLE-IPhone6S'\n",
        "    KcDstat = tsfel.time_series_features_extractor(cfgstat, cD, window_size=2500)\n",
        "    KcDspec = tsfel.time_series_features_extractor(cfgspec, cD, window_size=2500)\n",
        "    KcDstat.drop(['0_ECDF Percentile Count_0', '0_ECDF Percentile Count_1',\n",
        "       '0_ECDF Percentile_0', '0_ECDF Percentile_1', '0_ECDF_0', '0_ECDF_1',\n",
        "       '0_ECDF_2', '0_ECDF_3', '0_ECDF_4', '0_ECDF_5', '0_ECDF_6', '0_ECDF_7',\n",
        "       '0_ECDF_8', '0_ECDF_9', '0_Histogram_0', '0_Histogram_1',\n",
        "       '0_Histogram_2', '0_Histogram_3', '0_Histogram_4', '0_Histogram_5',\n",
        "       '0_Histogram_6', '0_Histogram_7', '0_Histogram_8', '0_Histogram_9',\n",
        "       '0_Interquartile range'],axis=1,inplace=True)\n",
        "    KcDstat.loc[:,'Labels'] = 'BLE-IPhone6S'\n",
        "    KcDspec.loc[:,'Labels'] = 'BLE-IPhone6S'\n",
        "    KcAstat.to_csv(r\"C:\\Users\\student\\Desktop\\csv\\stat\\Approximate_coefficients\"+ '/' + str(m) + '.csv')\n",
        "    KcDstat.to_csv(r\"C:\\Users\\student\\Desktop\\csv\\stat\\Descriptive_coefficients\"+ '/' + str(m) + '.csv')\n",
        "    KcAspec.to_csv(r\"C:\\Users\\student\\Desktop\\csv\\spec\\Approximate_coefficients\"+ '/' + str(m) + '.csv')\n",
        "    KcDspec.to_csv(r\"C:\\Users\\student\\Desktop\\csv\\spec\\Descriptive_coefficients\"+ '/' + str(m) + '.csv')"
      ]
    },
    {
      "cell_type": "code",
      "source": [
        "pip install mat73"
      ],
      "metadata": {
        "colab": {
          "base_uri": "https://localhost:8080/"
        },
        "id": "8tLEzqlLHQGM",
        "outputId": "5c8f59e7-49f4-4ae8-f863-3f2374ea5f5e"
      },
      "id": "8tLEzqlLHQGM",
      "execution_count": null,
      "outputs": [
        {
          "output_type": "stream",
          "name": "stdout",
          "text": [
            "Looking in indexes: https://pypi.org/simple, https://us-python.pkg.dev/colab-wheels/public/simple/\n",
            "Collecting mat73\n",
            "  Downloading mat73-0.60-py3-none-any.whl (19 kB)\n",
            "Requirement already satisfied: h5py in /usr/local/lib/python3.10/dist-packages (from mat73) (3.8.0)\n",
            "Requirement already satisfied: numpy in /usr/local/lib/python3.10/dist-packages (from mat73) (1.22.4)\n",
            "Installing collected packages: mat73\n",
            "Successfully installed mat73-0.60\n"
          ]
        }
      ]
    },
    {
      "cell_type": "code",
      "execution_count": null,
      "id": "40539d0c",
      "metadata": {
        "colab": {
          "base_uri": "https://localhost:8080/"
        },
        "id": "40539d0c",
        "outputId": "ecceae13-0e43-4b44-c1a4-9df94d9b505d"
      },
      "outputs": [
        {
          "output_type": "execute_result",
          "data": {
            "text/plain": [
              "{'Channel_1': {'Data': array([ -980, -1288, -1380, ...,  9792, 18480, 16820], dtype=int16),\n",
              "  'NumPoints': array(5000000.),\n",
              "  'NumSegments': array(0.),\n",
              "  'WaveformType': 'NORMAL',\n",
              "  'XData': None,\n",
              "  'XDispOrigin': array(-0.0005),\n",
              "  'XDispRange': array(0.001),\n",
              "  'XInc': array(5.e-11),\n",
              "  'XOrg': array(-0.000125),\n",
              "  'XUnits': 'Second',\n",
              "  'YDispOrigin': array(0.),\n",
              "  'YDispRange': array(0.40000001),\n",
              "  'YInc': array(6.58411815e-06),\n",
              "  'YOrg': array(0.00663679),\n",
              "  'YUnits': 'Volt'},\n",
              " 'Frame': {'Date': '26-Aug-2020  2:32:30',\n",
              "  'Model': 'MSOS604A',\n",
              "  'Serial': 'MY55510227'}}"
            ]
          },
          "metadata": {},
          "execution_count": 4
        }
      ],
      "source": [
        "import mat73\n",
        "annots = mat73.loadmat(\"/content/IPAD00007.mat\")\n",
        "annots"
      ]
    },
    {
      "cell_type": "code",
      "source": [],
      "metadata": {
        "id": "ZgZGvujwHneR"
      },
      "id": "ZgZGvujwHneR",
      "execution_count": null,
      "outputs": []
    },
    {
      "cell_type": "code",
      "source": [
        "li = annots['Channel_1']['Data']\n",
        "b=annots['Channel_1']['Data']\n",
        "a=b.tolist()\n",
        "t=[]\n",
        "for i in range(len(a)):\n",
        "  k=a[i]*6.581e-06;\n",
        "  t.append(k)"
      ],
      "metadata": {
        "id": "I91qZsQfiRtd"
      },
      "id": "I91qZsQfiRtd",
      "execution_count": null,
      "outputs": []
    },
    {
      "cell_type": "code",
      "source": [
        "import matplotlib.pyplot as plt\n",
        "x = range(0,len(a))\n",
        "plt.scatter(x, t)\n",
        "plt.show()"
      ],
      "metadata": {
        "colab": {
          "base_uri": "https://localhost:8080/",
          "height": 448
        },
        "id": "Qly1tXRIisPh",
        "outputId": "25255408-07b3-47c5-9961-3bce115e1182"
      },
      "id": "Qly1tXRIisPh",
      "execution_count": null,
      "outputs": [
        {
          "output_type": "display_data",
          "data": {
            "text/plain": [
              "<Figure size 640x480 with 1 Axes>"
            ],
            "image/png": "[encoded data removed]"
          },
          "metadata": {}
        }
      ]
    },
    {
      "cell_type": "code",
      "source": [
        "import matplotlib.pyplot as plt\n",
        "x = range(0,len(a))\n",
        "plt.scatter(x, a)\n",
        "plt.show()"
      ],
      "metadata": {
        "colab": {
          "base_uri": "https://localhost:8080/",
          "height": 448
        },
        "id": "v-7GPQlQk4sw",
        "outputId": "608413eb-5256-4f16-c65a-0cefbed8a60f"
      },
      "id": "v-7GPQlQk4sw",
      "execution_count": null,
      "outputs": [
        {
          "output_type": "display_data",
          "data": {
            "text/plain": [
              "<Figure size 640x480 with 1 Axes>"
            ],
            "image/png": "[encoded data removed]"
          },
          "metadata": {}
        }
      ]
    },
    {
      "cell_type": "code",
      "source": [
        "from scipy.signal import lfilter\n",
        "\n",
        "n = 30  # the larger n is, the smoother curve will be\n",
        "h = [1.0 / n] * n\n",
        "m = 1\n",
        "yy = lfilter(h, m, a)\n",
        "plt.plot(x, yy, linewidth=2, linestyle=\"-\", c=\"b\")  # smooth by filter"
      ],
      "metadata": {
        "colab": {
          "base_uri": "https://localhost:8080/",
          "height": 465
        },
        "id": "ehRnwjuBDsPX",
        "outputId": "9e46fc8b-57e3-4e86-fee8-3527e1dc1787"
      },
      "id": "ehRnwjuBDsPX",
      "execution_count": null,
      "outputs": [
        {
          "output_type": "execute_result",
          "data": {
            "text/plain": [
              "[<matplotlib.lines.Line2D at 0x7fdae5c404f0>]"
            ]
          },
          "metadata": {},
          "execution_count": 16
        },
        {
          "output_type": "display_data",
          "data": {
            "text/plain": [
              "<Figure size 640x480 with 1 Axes>"
            ],
            "image/png": "[encoded data removed]"
          },
          "metadata": {}
        }
      ]
    },
    {
      "cell_type": "code",
      "source": [
        "from scipy.signal import lfilter\n",
        "\n",
        "n = 30  # the larger n is, the smoother curve will be\n",
        "h = [1.0 / n] * n\n",
        "k = 1\n",
        "yy = lfilter(h, k, t)\n",
        "plt.plot(x, yy, linewidth=2, linestyle=\"-\", c=\"b\")  # smooth by filter"
      ],
      "metadata": {
        "colab": {
          "base_uri": "https://localhost:8080/",
          "height": 465
        },
        "id": "GYs5q6zYEIPv",
        "outputId": "64e13551-f84e-43c8-9352-7f8be60b5d1e"
      },
      "id": "GYs5q6zYEIPv",
      "execution_count": null,
      "outputs": [
        {
          "output_type": "execute_result",
          "data": {
            "text/plain": [
              "[<matplotlib.lines.Line2D at 0x7fdae5c93580>]"
            ]
          },
          "metadata": {},
          "execution_count": 17
        },
        {
          "output_type": "display_data",
          "data": {
            "text/plain": [
              "<Figure size 640x480 with 1 Axes>"
            ],
            "image/png": "[encoded data removed]"
          },
          "metadata": {}
        }
      ]
    },
    {
      "cell_type": "code",
      "source": [
        "from scipy.signal import savgol_filter\n",
        "w = savgol_filter(t, 101, 2)\n",
        "plt.plot(x, w, 'b')  # high frequency noise removed"
      ],
      "metadata": {
        "colab": {
          "base_uri": "https://localhost:8080/",
          "height": 465
        },
        "id": "0jI2YhCOFZZ2",
        "outputId": "bb8a0e44-f40f-4256-e269-b7814f971489"
      },
      "id": "0jI2YhCOFZZ2",
      "execution_count": null,
      "outputs": [
        {
          "output_type": "execute_result",
          "data": {
            "text/plain": [
              "[<matplotlib.lines.Line2D at 0x7fdae5c93d00>]"
            ]
          },
          "metadata": {},
          "execution_count": 18
        },
        {
          "output_type": "display_data",
          "data": {
            "text/plain": [
              "<Figure size 640x480 with 1 Axes>"
            ],
            "image/png": "[encoded data removed]"
          },
          "metadata": {}
        }
      ]
    },
    {
      "cell_type": "code",
      "source": [
        "pip install tsmoothie"
      ],
      "metadata": {
        "colab": {
          "base_uri": "https://localhost:8080/"
        },
        "id": "EwSRo_3yGBdy",
        "outputId": "015df58e-d239-4c3c-c324-44a0bdb28177"
      },
      "id": "EwSRo_3yGBdy",
      "execution_count": null,
      "outputs": [
        {
          "output_type": "stream",
          "name": "stdout",
          "text": [
            "Looking in indexes: https://pypi.org/simple, https://us-python.pkg.dev/colab-wheels/public/simple/\n",
            "Collecting tsmoothie\n",
            "  Downloading tsmoothie-1.0.4-py3-none-any.whl (21 kB)\n",
            "Requirement already satisfied: numpy in /usr/local/lib/python3.10/dist-packages (from tsmoothie) (1.22.4)\n",
            "Requirement already satisfied: scipy in /usr/local/lib/python3.10/dist-packages (from tsmoothie) (1.10.1)\n",
            "Collecting simdkalman (from tsmoothie)\n",
            "  Downloading simdkalman-1.0.2-py2.py3-none-any.whl (11 kB)\n",
            "Installing collected packages: simdkalman, tsmoothie\n",
            "Successfully installed simdkalman-1.0.2 tsmoothie-1.0.4\n"
          ]
        }
      ]
    },
    {
      "cell_type": "code",
      "source": [
        "from tsmoothie.smoother import *"
      ],
      "metadata": {
        "id": "OYj01QTiF-99"
      },
      "id": "OYj01QTiF-99",
      "execution_count": null,
      "outputs": []
    },
    {
      "cell_type": "code",
      "source": [
        "smoother = ConvolutionSmoother(window_len=30, window_type='ones')\n",
        "smoother.smooth(t)\n",
        "\n",
        "# generate intervals\n",
        "low, up = smoother.get_intervals('sigma_interval', n_sigma=3)\n",
        "\n",
        "# plot the smoothed timeseries with intervals\n",
        "plt.figure(figsize=(11,6))\n",
        "plt.plot(smoother.data[0], color='orange')\n",
        "plt.plot(smoother.smooth_data[0], linewidth=3, color='blue')\n",
        "plt.fill_between(range(len(smoother.data[0])), low[0], up[0], alpha=0.3)"
      ],
      "metadata": {
        "colab": {
          "base_uri": "https://localhost:8080/",
          "height": 557
        },
        "id": "k09EeJcpFzHq",
        "outputId": "ea8e47a7-cc19-4b44-8969-4ba357bff474"
      },
      "id": "k09EeJcpFzHq",
      "execution_count": null,
      "outputs": [
        {
          "output_type": "execute_result",
          "data": {
            "text/plain": [
              "<matplotlib.collections.PolyCollection at 0x7fdadbc0ee60>"
            ]
          },
          "metadata": {},
          "execution_count": 23
        },
        {
          "output_type": "display_data",
          "data": {
            "text/plain": [
              "<Figure size 1100x600 with 1 Axes>"
            ],
            "image/png": "[encoded data removed]"
          },
          "metadata": {}
        }
      ]
    },
    {
      "cell_type": "code",
      "source": [
        "pip install pywt"
      ],
      "metadata": {
        "colab": {
          "base_uri": "https://localhost:8080/"
        },
        "id": "d3_VZQgXp8T_",
        "outputId": "396a5d4b-4401-4d86-8453-da878795e1ae"
      },
      "id": "d3_VZQgXp8T_",
      "execution_count": null,
      "outputs": [
        {
          "output_type": "stream",
          "name": "stdout",
          "text": [
            "Looking in indexes: https://pypi.org/simple, https://us-python.pkg.dev/colab-wheels/public/simple/\n",
            "\u001b[31mERROR: Could not find a version that satisfies the requirement pywt (from versions: none)\u001b[0m\u001b[31m\n",
            "\u001b[0m\u001b[31mERROR: No matching distribution found for pywt\u001b[0m\u001b[31m\n",
            "\u001b[0m"
          ]
        }
      ]
    },
    {
      "cell_type": "code",
      "source": [
        "import pywt\n",
        "cA, cD = pywt.dwt(t, 'haar')"
      ],
      "metadata": {
        "id": "mceiWVEmo493"
      },
      "id": "mceiWVEmo493",
      "execution_count": null,
      "outputs": []
    },
    {
      "cell_type": "code",
      "source": [
        "import matplotlib.pyplot as plt\n",
        "x = range(0,len(cA))\n",
        "plt.scatter(x, cA)\n",
        "plt.show()"
      ],
      "metadata": {
        "colab": {
          "base_uri": "https://localhost:8080/",
          "height": 448
        },
        "id": "9vM1a1Tko8a3",
        "outputId": "1ca0f895-46b3-4c31-bbaa-af89f2574e98"
      },
      "id": "9vM1a1Tko8a3",
      "execution_count": null,
      "outputs": [
        {
          "output_type": "display_data",
          "data": {
            "text/plain": [
              "<Figure size 640x480 with 1 Axes>"
            ],
            "image/png": "[encoded data removed]"
          },
          "metadata": {}
        }
      ]
    },
    {
      "cell_type": "code",
      "source": [
        "import matplotlib.pyplot as plt\n",
        "x = range(0,len(cD))\n",
        "plt.scatter(x, cD)\n",
        "plt.show()"
      ],
      "metadata": {
        "colab": {
          "base_uri": "https://localhost:8080/",
          "height": 451
        },
        "id": "crebrJ-JqRxp",
        "outputId": "822203e5-7bff-4ada-fd14-c262577ff187"
      },
      "id": "crebrJ-JqRxp",
      "execution_count": null,
      "outputs": [
        {
          "output_type": "display_data",
          "data": {
            "text/plain": [
              "<Figure size 640x480 with 1 Axes>"
            ],
            "image/png": "[encoded data removed]"
          },
          "metadata": {}
        }
      ]
    }
  ],
  "metadata": {
    "kernelspec": {
      "display_name": "Python 3 (ipykernel)",
      "language": "python",
      "name": "python3"
    },
    "language_info": {
      "codemirror_mode": {
        "name": "ipython",
        "version": 3
      },
      "file_extension": ".py",
      "mimetype": "text/x-python",
      "name": "python",
      "nbconvert_exporter": "python",
      "pygments_lexer": "ipython3",
      "version": "3.9.16"
    },
    "colab": {
      "provenance": []
    }
  },
  "nbformat": 4,
  "nbformat_minor": 5
}