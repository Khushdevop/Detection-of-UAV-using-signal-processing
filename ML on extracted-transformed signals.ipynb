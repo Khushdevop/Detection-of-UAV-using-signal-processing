{
 "cells": [
  {
   "cell_type": "code",
   "execution_count": 1,
   "id": "fd469355",
   "metadata": {},
   "outputs": [],
   "source": [
    "from math import sqrt\n",
    "from numpy import concatenate\n",
    "from matplotlib import pyplot\n",
    "from pandas import read_csv\n",
    "from pandas import DataFrame\n",
    "from pandas import concat\n",
    "import pandas as pd\n",
    "import numpy as np\n",
    "from sklearn.preprocessing import MinMaxScaler\n",
    "from sklearn.preprocessing import LabelEncoder\n",
    "from sklearn.metrics import mean_squared_error\n",
    "from keras.models import Sequential\n",
    "from keras.layers import Dense\n",
    "from keras.layers import LSTM\n",
    "from keras.layers import Dropout\n",
    "import pandas as pd\n",
    "import matplotlib.pyplot as plt\n",
    "from numpy import array\n",
    "import numpy as np\n",
    "from sklearn import metrics"
   ]
  },
  {
   "cell_type": "code",
   "execution_count": 2,
   "id": "06466af0",
   "metadata": {},
   "outputs": [
    {
     "name": "stderr",
     "output_type": "stream",
     "text": [
      "C:\\Users\\student\\AppData\\Local\\Temp\\ipykernel_14012\\364653728.py:1: DtypeWarning: Columns (0) have mixed types. Specify dtype option on import or set low_memory=False.\n",
      "  df1 = pd.read_csv(r\"C:\\Users\\student\\Desktop\\ccsv\\stat_ble\\Approximate_coefficients\\cA-ble-combined-files.csv\")\n",
      "C:\\Users\\student\\AppData\\Local\\Temp\\ipykernel_14012\\364653728.py:7: DtypeWarning: Columns (0) have mixed types. Specify dtype option on import or set low_memory=False.\n",
      "  df2 = pd.read_csv(r\"C:\\Users\\student\\Desktop\\ccsv\\stat_dji_fly\\Approximate_coefficients\\cA-dji-fly-combined-files.csv\")\n",
      "C:\\Users\\student\\AppData\\Local\\Temp\\ipykernel_14012\\364653728.py:13: DtypeWarning: Columns (0) have mixed types. Specify dtype option on import or set low_memory=False.\n",
      "  df3 = pd.read_csv(r\"C:\\Users\\student\\Desktop\\ccsv\\stat_dji_vid\\Approximate_coefficients\\cA-dji-vid-combined-files.csv\")\n"
     ]
    }
   ],
   "source": [
    "df1 = pd.read_csv(r\"C:\\Users\\student\\Desktop\\ccsv\\stat_ble\\Approximate_coefficients\\cA-ble-combined-files.csv\")\n",
    "df1.drop('Unnamed: 0',axis=1,inplace=True)\n",
    "df1.dropna(inplace=True)\n",
    "df1.isnull().sum()\n",
    "df1.drop(df1[df1['Labels'] == 'Labels'].index, inplace = True)\n",
    "df1.drop(\"Labels\",axis=1,inplace=True)\n",
    "df2 = pd.read_csv(r\"C:\\Users\\student\\Desktop\\ccsv\\stat_dji_fly\\Approximate_coefficients\\cA-dji-fly-combined-files.csv\")\n",
    "df2.drop('Unnamed: 0',axis=1,inplace=True)\n",
    "df2.dropna(inplace=True)\n",
    "df2.isnull().sum()\n",
    "df2.drop(df2[df2['Labels'] == 'Labels'].index, inplace = True)\n",
    "df2.drop(\"Labels\",axis=1,inplace=True)\n",
    "df3 = pd.read_csv(r\"C:\\Users\\student\\Desktop\\ccsv\\stat_dji_vid\\Approximate_coefficients\\cA-dji-vid-combined-files.csv\")\n",
    "df3.drop('Unnamed: 0',axis=1,inplace=True)\n",
    "df3.dropna(inplace=True)\n",
    "df3.isnull().sum()\n",
    "df3.drop(df3[df3['Labels'] == 'Labels'].index, inplace = True)\n",
    "df3.drop(\"Labels\",axis=1,inplace=True)\n",
    "dfa = pd.concat([df1, df2,df3], axis=0, ignore_index=True)"
   ]
  },
  {
   "cell_type": "code",
   "execution_count": 3,
   "id": "76b67dfd",
   "metadata": {},
   "outputs": [
    {
     "name": "stderr",
     "output_type": "stream",
     "text": [
      "C:\\Users\\student\\AppData\\Local\\Temp\\ipykernel_14012\\507689285.py:1: DtypeWarning: Columns (0) have mixed types. Specify dtype option on import or set low_memory=False.\n",
      "  df4 = pd.read_csv(r\"C:\\Users\\student\\Desktop\\ccsv\\stat_ble\\Descriptive_coefficients\\cD-ble-combined-files.csv\")\n",
      "C:\\Users\\student\\AppData\\Local\\Temp\\ipykernel_14012\\507689285.py:7: DtypeWarning: Columns (0) have mixed types. Specify dtype option on import or set low_memory=False.\n",
      "  df5 = pd.read_csv(r\"C:\\Users\\student\\Desktop\\ccsv\\stat_dji_fly\\Descriptive_coefficients\\cD-dji-fly-combined-files.csv\")\n",
      "C:\\Users\\student\\AppData\\Local\\Temp\\ipykernel_14012\\507689285.py:13: DtypeWarning: Columns (0) have mixed types. Specify dtype option on import or set low_memory=False.\n",
      "  df6 = pd.read_csv(r\"C:\\Users\\student\\Desktop\\ccsv\\stat_dji_vid\\Descriptive_coefficients\\cD-dji-vid-combined-files.csv\")\n"
     ]
    }
   ],
   "source": [
    "df4 = pd.read_csv(r\"C:\\Users\\student\\Desktop\\ccsv\\stat_ble\\Descriptive_coefficients\\cD-ble-combined-files.csv\")\n",
    "df4.drop('Unnamed: 0',axis=1,inplace=True)\n",
    "df4.dropna(inplace=True)\n",
    "df4.isnull().sum()\n",
    "df4.drop(df4[df4['Labels'] == 'Labels'].index, inplace = True)\n",
    "\n",
    "df5 = pd.read_csv(r\"C:\\Users\\student\\Desktop\\ccsv\\stat_dji_fly\\Descriptive_coefficients\\cD-dji-fly-combined-files.csv\")\n",
    "df5.drop('Unnamed: 0',axis=1,inplace=True)\n",
    "df5.dropna(inplace=True)\n",
    "df5.isnull().sum()\n",
    "df5.drop(df5[df5['Labels'] == 'Labels'].index, inplace = True)\n",
    "\n",
    "df6 = pd.read_csv(r\"C:\\Users\\student\\Desktop\\ccsv\\stat_dji_vid\\Descriptive_coefficients\\cD-dji-vid-combined-files.csv\")\n",
    "df6.drop('Unnamed: 0',axis=1,inplace=True)\n",
    "df6.dropna(inplace=True)\n",
    "df6.isnull().sum()\n",
    "df6.drop(df6[df6['Labels'] == 'Labels'].index, inplace = True)\n",
    "dfb = pd.concat([df4, df5,df6], axis=0, ignore_index=True)"
   ]
  },
  {
   "cell_type": "code",
   "execution_count": 4,
   "id": "81d7849e",
   "metadata": {},
   "outputs": [
    {
     "data": {
      "text/html": [
       "<div>\n",
       "<style scoped>\n",
       "    .dataframe tbody tr th:only-of-type {\n",
       "        vertical-align: middle;\n",
       "    }\n",
       "\n",
       "    .dataframe tbody tr th {\n",
       "        vertical-align: top;\n",
       "    }\n",
       "\n",
       "    .dataframe thead th {\n",
       "        text-align: right;\n",
       "    }\n",
       "</style>\n",
       "<table border=\"1\" class=\"dataframe\">\n",
       "  <thead>\n",
       "    <tr style=\"text-align: right;\">\n",
       "      <th></th>\n",
       "      <th>0</th>\n",
       "      <th>1</th>\n",
       "      <th>2</th>\n",
       "      <th>3</th>\n",
       "      <th>4</th>\n",
       "      <th>5</th>\n",
       "      <th>6</th>\n",
       "      <th>7</th>\n",
       "      <th>8</th>\n",
       "      <th>9</th>\n",
       "      <th>...</th>\n",
       "      <th>13</th>\n",
       "      <th>14</th>\n",
       "      <th>15</th>\n",
       "      <th>16</th>\n",
       "      <th>17</th>\n",
       "      <th>18</th>\n",
       "      <th>19</th>\n",
       "      <th>20</th>\n",
       "      <th>21</th>\n",
       "      <th>22</th>\n",
       "    </tr>\n",
       "  </thead>\n",
       "  <tbody>\n",
       "    <tr>\n",
       "      <th>0</th>\n",
       "      <td>-0.42204765250281806</td>\n",
       "      <td>0.002196437711138652</td>\n",
       "      <td>-0.010192647376830328</td>\n",
       "      <td>0.0035010063352879884</td>\n",
       "      <td>-0.010274861157190982</td>\n",
       "      <td>0.0030154483830886576</td>\n",
       "      <td>-0.021815466080122886</td>\n",
       "      <td>0.011064454428858792</td>\n",
       "      <td>0.03288525887956754</td>\n",
       "      <td>0.004304891550304923</td>\n",
       "      <td>...</td>\n",
       "      <td>-1.8316056845427267e-06</td>\n",
       "      <td>0.0015451040292182472</td>\n",
       "      <td>-1.8613878907954885e-05</td>\n",
       "      <td>0.001340199281372737</td>\n",
       "      <td>-0.006012282887269361</td>\n",
       "      <td>0.0019073609655378852</td>\n",
       "      <td>-0.02196003599027788</td>\n",
       "      <td>0.0019073600861080834</td>\n",
       "      <td>3.6380224980782356e-06</td>\n",
       "      <td>BLE-IPhone6S</td>\n",
       "    </tr>\n",
       "    <tr>\n",
       "      <th>1</th>\n",
       "      <td>-0.03768653533307109</td>\n",
       "      <td>0.005900599613821633</td>\n",
       "      <td>-0.010031562868760889</td>\n",
       "      <td>0.0038150919900910188</td>\n",
       "      <td>-0.010079415428657458</td>\n",
       "      <td>0.0031922802327142286</td>\n",
       "      <td>-0.02470061731085586</td>\n",
       "      <td>0.011123746873907693</td>\n",
       "      <td>0.023238327537483314</td>\n",
       "      <td>0.004806817130375256</td>\n",
       "      <td>...</td>\n",
       "      <td>9.158028422713633e-07</td>\n",
       "      <td>0.0016795520170059916</td>\n",
       "      <td>4.653469726988678e-05</td>\n",
       "      <td>0.0014053478575505787</td>\n",
       "      <td>-0.006384560465428455</td>\n",
       "      <td>0.0021135396160106112</td>\n",
       "      <td>-0.019858488238713414</td>\n",
       "      <td>0.002113539417600591</td>\n",
       "      <td>4.467048869751445e-06</td>\n",
       "      <td>BLE-IPhone6S</td>\n",
       "    </tr>\n",
       "    <tr>\n",
       "      <th>2</th>\n",
       "      <td>-0.41053378469502677</td>\n",
       "      <td>0.003815845176130709</td>\n",
       "      <td>-0.01016063895066021</td>\n",
       "      <td>0.0037122017462590533</td>\n",
       "      <td>-0.010163177883743255</td>\n",
       "      <td>0.0033132704456159327</td>\n",
       "      <td>-0.024086359306893353</td>\n",
       "      <td>0.011135143772678081</td>\n",
       "      <td>-0.062421261440778836</td>\n",
       "      <td>0.004555528833465773</td>\n",
       "      <td>...</td>\n",
       "      <td>7.371096047549982e-07</td>\n",
       "      <td>0.0016352328001899214</td>\n",
       "      <td>0.0</td>\n",
       "      <td>0.0014332686759125101</td>\n",
       "      <td>-0.006812679680311413</td>\n",
       "      <td>0.0020122099693063744</td>\n",
       "      <td>-0.00656864322334498</td>\n",
       "      <td>0.0020122098342979498</td>\n",
       "      <td>4.048988417245382e-06</td>\n",
       "      <td>BLE-IPhone6S</td>\n",
       "    </tr>\n",
       "    <tr>\n",
       "      <th>3</th>\n",
       "      <td>-0.540285457367073</td>\n",
       "      <td>0.0029782206252727487</td>\n",
       "      <td>-0.010156305639650438</td>\n",
       "      <td>0.003953902540971516</td>\n",
       "      <td>-0.0101445640048353</td>\n",
       "      <td>0.0035552508714193423</td>\n",
       "      <td>-0.02442140912723654</td>\n",
       "      <td>0.011244800528609548</td>\n",
       "      <td>-0.0049853428150490806</td>\n",
       "      <td>0.004826488856531453</td>\n",
       "      <td>...</td>\n",
       "      <td>-8.190106719499283e-08</td>\n",
       "      <td>0.0017778710078695493</td>\n",
       "      <td>-1.861387890795467e-05</td>\n",
       "      <td>0.0015728727677221705</td>\n",
       "      <td>-0.006272877191980728</td>\n",
       "      <td>0.00216064996271806</td>\n",
       "      <td>0.02661407824791601</td>\n",
       "      <td>0.002160649961165803</td>\n",
       "      <td>4.6684082546857855e-06</td>\n",
       "      <td>BLE-IPhone6S</td>\n",
       "    </tr>\n",
       "    <tr>\n",
       "      <th>4</th>\n",
       "      <td>-0.13947545639468562</td>\n",
       "      <td>0.0029782206252727487</td>\n",
       "      <td>-0.01012554062059137</td>\n",
       "      <td>0.00341543675549119</td>\n",
       "      <td>-0.010163177883743255</td>\n",
       "      <td>0.0028758442912789972</td>\n",
       "      <td>-0.023137051482587663</td>\n",
       "      <td>0.011000367075389893</td>\n",
       "      <td>0.03506742821964078</td>\n",
       "      <td>0.004299011855540309</td>\n",
       "      <td>...</td>\n",
       "      <td>-1.9879622673695697e-06</td>\n",
       "      <td>0.0015277282204499833</td>\n",
       "      <td>9.306939453977009e-06</td>\n",
       "      <td>0.001275050705194894</td>\n",
       "      <td>-0.005733074703650041</td>\n",
       "      <td>0.0019243521353933463</td>\n",
       "      <td>0.02514221223982336</td>\n",
       "      <td>0.0019243511085555464</td>\n",
       "      <td>3.7031271889989607e-06</td>\n",
       "      <td>BLE-IPhone6S</td>\n",
       "    </tr>\n",
       "    <tr>\n",
       "      <th>...</th>\n",
       "      <td>...</td>\n",
       "      <td>...</td>\n",
       "      <td>...</td>\n",
       "      <td>...</td>\n",
       "      <td>...</td>\n",
       "      <td>...</td>\n",
       "      <td>...</td>\n",
       "      <td>...</td>\n",
       "      <td>...</td>\n",
       "      <td>...</td>\n",
       "      <td>...</td>\n",
       "      <td>...</td>\n",
       "      <td>...</td>\n",
       "      <td>...</td>\n",
       "      <td>...</td>\n",
       "      <td>...</td>\n",
       "      <td>...</td>\n",
       "      <td>...</td>\n",
       "      <td>...</td>\n",
       "      <td>...</td>\n",
       "      <td>...</td>\n",
       "    </tr>\n",
       "    <tr>\n",
       "      <th>699995</th>\n",
       "      <td>-1.580033529698243</td>\n",
       "      <td>0.2859091800261839</td>\n",
       "      <td>-0.00482820193107342</td>\n",
       "      <td>0.2010356901581723</td>\n",
       "      <td>0.005118816699687528</td>\n",
       "      <td>0.22011842502601806</td>\n",
       "      <td>-0.3046719699654022</td>\n",
       "      <td>0.21935988250867566</td>\n",
       "      <td>-0.028188399861477132</td>\n",
       "      <td>0.21930674070883646</td>\n",
       "      <td>...</td>\n",
       "      <td>2.7131589896234936e-05</td>\n",
       "      <td>0.0717440447929487</td>\n",
       "      <td>0.0</td>\n",
       "      <td>0.07549789285066419</td>\n",
       "      <td>-0.1531177678968352</td>\n",
       "      <td>0.09072060145710933</td>\n",
       "      <td>0.03059691203403007</td>\n",
       "      <td>0.09072059740002011</td>\n",
       "      <td>0.008230226792616537</td>\n",
       "      <td>DJI-INSPIRE-VIDEOING</td>\n",
       "    </tr>\n",
       "    <tr>\n",
       "      <th>699996</th>\n",
       "      <td>-1.5732519228583344</td>\n",
       "      <td>0.2859091800261839</td>\n",
       "      <td>-0.008140452336125198</td>\n",
       "      <td>0.19875643022215567</td>\n",
       "      <td>-0.007482779320997782</td>\n",
       "      <td>0.21958792947714134</td>\n",
       "      <td>-0.3046719699654022</td>\n",
       "      <td>0.21770953056754086</td>\n",
       "      <td>-0.007857379224396702</td>\n",
       "      <td>0.21755728610116065</td>\n",
       "      <td>...</td>\n",
       "      <td>-4.09133058396844e-05</td>\n",
       "      <td>0.0717004871488416</td>\n",
       "      <td>0.0</td>\n",
       "      <td>0.0758608634893693</td>\n",
       "      <td>-0.14807340671277947</td>\n",
       "      <td>0.08938424143248361</td>\n",
       "      <td>0.022667593885058106</td>\n",
       "      <td>0.08938423206898387</td>\n",
       "      <td>0.007989540942561964</td>\n",
       "      <td>DJI-INSPIRE-VIDEOING</td>\n",
       "    </tr>\n",
       "    <tr>\n",
       "      <th>699997</th>\n",
       "      <td>-1.532651227797683</td>\n",
       "      <td>0.2859091800261839</td>\n",
       "      <td>-0.005443137480228173</td>\n",
       "      <td>0.19548249652555277</td>\n",
       "      <td>0.0027269332600153642</td>\n",
       "      <td>0.2108114855720407</td>\n",
       "      <td>-0.3046719699654022</td>\n",
       "      <td>0.21505195212358802</td>\n",
       "      <td>-0.02324485939261929</td>\n",
       "      <td>0.21498305599869327</td>\n",
       "      <td>...</td>\n",
       "      <td>3.3467754276502324e-05</td>\n",
       "      <td>0.06976368415972886</td>\n",
       "      <td>0.0</td>\n",
       "      <td>0.06621887421504877</td>\n",
       "      <td>-0.1522429155881613</td>\n",
       "      <td>0.08898218869997132</td>\n",
       "      <td>0.03308924083751441</td>\n",
       "      <td>0.08898218240606759</td>\n",
       "      <td>0.007917828785746685</td>\n",
       "      <td>DJI-INSPIRE-VIDEOING</td>\n",
       "    </tr>\n",
       "    <tr>\n",
       "      <th>699998</th>\n",
       "      <td>-1.5682506771110056</td>\n",
       "      <td>0.2859091800261839</td>\n",
       "      <td>-0.006284693282311494</td>\n",
       "      <td>0.1988710955164382</td>\n",
       "      <td>0.0008562384297659195</td>\n",
       "      <td>0.2166097088518686</td>\n",
       "      <td>-0.3046719699654022</td>\n",
       "      <td>0.21739288362928408</td>\n",
       "      <td>-0.018548067159849295</td>\n",
       "      <td>0.21730202135047613</td>\n",
       "      <td>...</td>\n",
       "      <td>-9.705276462607581e-05</td>\n",
       "      <td>0.0712366793503441</td>\n",
       "      <td>0.0</td>\n",
       "      <td>0.07374818823331644</td>\n",
       "      <td>-0.15174034085764657</td>\n",
       "      <td>0.0897428662602625</td>\n",
       "      <td>0.02835897299347792</td>\n",
       "      <td>0.08974281378120576</td>\n",
       "      <td>0.008053772625368173</td>\n",
       "      <td>DJI-INSPIRE-VIDEOING</td>\n",
       "    </tr>\n",
       "    <tr>\n",
       "      <th>699999</th>\n",
       "      <td>-1.5843615662161386</td>\n",
       "      <td>0.2859091800261839</td>\n",
       "      <td>-0.004114828744701838</td>\n",
       "      <td>0.20220723490220316</td>\n",
       "      <td>0.007659611170623349</td>\n",
       "      <td>0.2209281287585141</td>\n",
       "      <td>-0.3046719699654022</td>\n",
       "      <td>0.22031660273228781</td>\n",
       "      <td>-0.03242589121276438</td>\n",
       "      <td>0.22027817328073654</td>\n",
       "      <td>...</td>\n",
       "      <td>-2.4317171405352566e-05</td>\n",
       "      <td>0.07158152100615414</td>\n",
       "      <td>0.0</td>\n",
       "      <td>0.0753675956983085</td>\n",
       "      <td>-0.15255935152959654</td>\n",
       "      <td>0.09117383979601845</td>\n",
       "      <td>0.036978906052908204</td>\n",
       "      <td>0.09117383655317549</td>\n",
       "      <td>0.008312668471825158</td>\n",
       "      <td>DJI-INSPIRE-VIDEOING</td>\n",
       "    </tr>\n",
       "  </tbody>\n",
       "</table>\n",
       "<p>700000 rows × 23 columns</p>\n",
       "</div>"
      ],
      "text/plain": [
       "                          0                      1                      2   \\\n",
       "0       -0.42204765250281806   0.002196437711138652  -0.010192647376830328   \n",
       "1       -0.03768653533307109   0.005900599613821633  -0.010031562868760889   \n",
       "2       -0.41053378469502677   0.003815845176130709   -0.01016063895066021   \n",
       "3         -0.540285457367073  0.0029782206252727487  -0.010156305639650438   \n",
       "4       -0.13947545639468562  0.0029782206252727487   -0.01012554062059137   \n",
       "...                      ...                    ...                    ...   \n",
       "699995    -1.580033529698243     0.2859091800261839   -0.00482820193107342   \n",
       "699996   -1.5732519228583344     0.2859091800261839  -0.008140452336125198   \n",
       "699997    -1.532651227797683     0.2859091800261839  -0.005443137480228173   \n",
       "699998   -1.5682506771110056     0.2859091800261839  -0.006284693282311494   \n",
       "699999   -1.5843615662161386     0.2859091800261839  -0.004114828744701838   \n",
       "\n",
       "                           3                      4                      5   \\\n",
       "0       0.0035010063352879884  -0.010274861157190982  0.0030154483830886576   \n",
       "1       0.0038150919900910188  -0.010079415428657458  0.0031922802327142286   \n",
       "2       0.0037122017462590533  -0.010163177883743255  0.0033132704456159327   \n",
       "3        0.003953902540971516    -0.0101445640048353  0.0035552508714193423   \n",
       "4         0.00341543675549119  -0.010163177883743255  0.0028758442912789972   \n",
       "...                       ...                    ...                    ...   \n",
       "699995     0.2010356901581723   0.005118816699687528    0.22011842502601806   \n",
       "699996    0.19875643022215567  -0.007482779320997782    0.21958792947714134   \n",
       "699997    0.19548249652555277  0.0027269332600153642     0.2108114855720407   \n",
       "699998     0.1988710955164382  0.0008562384297659195     0.2166097088518686   \n",
       "699999    0.20220723490220316   0.007659611170623349     0.2209281287585141   \n",
       "\n",
       "                           6                     7                       8   \\\n",
       "0       -0.021815466080122886  0.011064454428858792     0.03288525887956754   \n",
       "1        -0.02470061731085586  0.011123746873907693    0.023238327537483314   \n",
       "2       -0.024086359306893353  0.011135143772678081   -0.062421261440778836   \n",
       "3        -0.02442140912723654  0.011244800528609548  -0.0049853428150490806   \n",
       "4       -0.023137051482587663  0.011000367075389893     0.03506742821964078   \n",
       "...                       ...                   ...                     ...   \n",
       "699995    -0.3046719699654022   0.21935988250867566   -0.028188399861477132   \n",
       "699996    -0.3046719699654022   0.21770953056754086   -0.007857379224396702   \n",
       "699997    -0.3046719699654022   0.21505195212358802    -0.02324485939261929   \n",
       "699998    -0.3046719699654022   0.21739288362928408   -0.018548067159849295   \n",
       "699999    -0.3046719699654022   0.22031660273228781    -0.03242589121276438   \n",
       "\n",
       "                          9   ...                       13  \\\n",
       "0       0.004304891550304923  ...  -1.8316056845427267e-06   \n",
       "1       0.004806817130375256  ...    9.158028422713633e-07   \n",
       "2       0.004555528833465773  ...    7.371096047549982e-07   \n",
       "3       0.004826488856531453  ...   -8.190106719499283e-08   \n",
       "4       0.004299011855540309  ...  -1.9879622673695697e-06   \n",
       "...                      ...  ...                      ...   \n",
       "699995   0.21930674070883646  ...   2.7131589896234936e-05   \n",
       "699996   0.21755728610116065  ...    -4.09133058396844e-05   \n",
       "699997   0.21498305599869327  ...   3.3467754276502324e-05   \n",
       "699998   0.21730202135047613  ...   -9.705276462607581e-05   \n",
       "699999   0.22027817328073654  ...  -2.4317171405352566e-05   \n",
       "\n",
       "                           14                       15                     16  \\\n",
       "0       0.0015451040292182472  -1.8613878907954885e-05   0.001340199281372737   \n",
       "1       0.0016795520170059916    4.653469726988678e-05  0.0014053478575505787   \n",
       "2       0.0016352328001899214                      0.0  0.0014332686759125101   \n",
       "3       0.0017778710078695493   -1.861387890795467e-05  0.0015728727677221705   \n",
       "4       0.0015277282204499833    9.306939453977009e-06   0.001275050705194894   \n",
       "...                       ...                      ...                    ...   \n",
       "699995     0.0717440447929487                      0.0    0.07549789285066419   \n",
       "699996     0.0717004871488416                      0.0     0.0758608634893693   \n",
       "699997    0.06976368415972886                      0.0    0.06621887421504877   \n",
       "699998     0.0712366793503441                      0.0    0.07374818823331644   \n",
       "699999    0.07158152100615414                      0.0     0.0753675956983085   \n",
       "\n",
       "                           17                     18                     19  \\\n",
       "0       -0.006012282887269361  0.0019073609655378852   -0.02196003599027788   \n",
       "1       -0.006384560465428455  0.0021135396160106112  -0.019858488238713414   \n",
       "2       -0.006812679680311413  0.0020122099693063744   -0.00656864322334498   \n",
       "3       -0.006272877191980728    0.00216064996271806    0.02661407824791601   \n",
       "4       -0.005733074703650041  0.0019243521353933463    0.02514221223982336   \n",
       "...                       ...                    ...                    ...   \n",
       "699995    -0.1531177678968352    0.09072060145710933    0.03059691203403007   \n",
       "699996   -0.14807340671277947    0.08938424143248361   0.022667593885058106   \n",
       "699997    -0.1522429155881613    0.08898218869997132    0.03308924083751441   \n",
       "699998   -0.15174034085764657     0.0897428662602625    0.02835897299347792   \n",
       "699999   -0.15255935152959654    0.09117383979601845   0.036978906052908204   \n",
       "\n",
       "                           20                      21                    22  \n",
       "0       0.0019073600861080834  3.6380224980782356e-06          BLE-IPhone6S  \n",
       "1        0.002113539417600591   4.467048869751445e-06          BLE-IPhone6S  \n",
       "2       0.0020122098342979498   4.048988417245382e-06          BLE-IPhone6S  \n",
       "3        0.002160649961165803  4.6684082546857855e-06          BLE-IPhone6S  \n",
       "4       0.0019243511085555464  3.7031271889989607e-06          BLE-IPhone6S  \n",
       "...                       ...                     ...                   ...  \n",
       "699995    0.09072059740002011    0.008230226792616537  DJI-INSPIRE-VIDEOING  \n",
       "699996    0.08938423206898387    0.007989540942561964  DJI-INSPIRE-VIDEOING  \n",
       "699997    0.08898218240606759    0.007917828785746685  DJI-INSPIRE-VIDEOING  \n",
       "699998    0.08974281378120576    0.008053772625368173  DJI-INSPIRE-VIDEOING  \n",
       "699999    0.09117383655317549    0.008312668471825158  DJI-INSPIRE-VIDEOING  \n",
       "\n",
       "[700000 rows x 23 columns]"
      ]
     },
     "execution_count": 4,
     "metadata": {},
     "output_type": "execute_result"
    }
   ],
   "source": [
    "df = pd.concat([dfa, dfb], axis=1, ignore_index=True)\n",
    "df"
   ]
  },
  {
   "cell_type": "code",
   "execution_count": 5,
   "id": "d99a0474",
   "metadata": {},
   "outputs": [
    {
     "name": "stdout",
     "output_type": "stream",
     "text": [
      "The history saving thread hit an unexpected error (OperationalError('database is locked')).History will not be written to the database.\n"
     ]
    }
   ],
   "source": [
    "df=df.rename(columns={22:'Labels'})"
   ]
  },
  {
   "cell_type": "code",
   "execution_count": 6,
   "id": "9090704b",
   "metadata": {},
   "outputs": [
    {
     "data": {
      "text/plain": [
       "array(['BLE-IPhone6S', 'DJI-INSPIRE-FLYING', 'DJI-INSPIRE-VIDEOING'],\n",
       "      dtype=object)"
      ]
     },
     "execution_count": 6,
     "metadata": {},
     "output_type": "execute_result"
    }
   ],
   "source": [
    "df['Labels'].unique()"
   ]
  },
  {
   "cell_type": "code",
   "execution_count": 7,
   "id": "d934c65c",
   "metadata": {},
   "outputs": [
    {
     "data": {
      "text/plain": [
       "array([0, 1, 2])"
      ]
     },
     "execution_count": 7,
     "metadata": {},
     "output_type": "execute_result"
    }
   ],
   "source": [
    "from sklearn import preprocessing\n",
    "\n",
    "label_encoder = preprocessing.LabelEncoder()\n",
    "df['Labels']= label_encoder.fit_transform(df['Labels'])\n",
    "df['Labels'].unique()"
   ]
  },
  {
   "cell_type": "code",
   "execution_count": 8,
   "id": "830a8039",
   "metadata": {},
   "outputs": [],
   "source": [
    "y = df['Labels']\n",
    "X = df.drop(['Labels'], axis=1)"
   ]
  },
  {
   "cell_type": "code",
   "execution_count": 9,
   "id": "69666a20",
   "metadata": {},
   "outputs": [],
   "source": [
    "from sklearn.model_selection import train_test_split\n",
    "x_train, x_test, y_train, y_test = train_test_split(X,y,test_size=0.20,random_state=0)"
   ]
  },
  {
   "cell_type": "code",
   "execution_count": 10,
   "id": "2fd4cb66",
   "metadata": {},
   "outputs": [
    {
     "data": {
      "text/plain": [
       "array([[ 1.54085608,  0.2112677 , -0.52398354, ...,  0.16944468,\n",
       "        -0.28386175, -0.65781933],\n",
       "       [-0.42718898,  0.46369975, -0.34254909, ...,  0.02969029,\n",
       "         0.10309359, -0.28893707],\n",
       "       [-0.32388287,  1.01185978,  0.0220402 , ...,  0.21094421,\n",
       "         0.75510777,  0.60284059],\n",
       "       ...,\n",
       "       [-0.90420297,  0.55809404, -0.35948765, ...,  0.32313391,\n",
       "         0.65048959,  0.43690806],\n",
       "       [-0.72386296,  1.01185978, -0.00761309, ...,  0.22054525,\n",
       "         0.93683637,  0.91183338],\n",
       "       [-0.90219394,  0.70312773, -0.36932275, ...,  0.27710821,\n",
       "         0.75128722,  0.5966273 ]])"
      ]
     },
     "execution_count": 10,
     "metadata": {},
     "output_type": "execute_result"
    }
   ],
   "source": [
    "from sklearn.preprocessing import StandardScaler\n",
    "scaler = StandardScaler()\n",
    "X_train = scaler.fit_transform(x_train)\n",
    "X_test = scaler.transform(x_test)\n",
    "X_train"
   ]
  },
  {
   "cell_type": "code",
   "execution_count": 11,
   "id": "0b97935d",
   "metadata": {},
   "outputs": [
    {
     "name": "stdout",
     "output_type": "stream",
     "text": [
      "(560000, 22)\n",
      "(140000, 22)\n",
      "(560000,)\n",
      "(140000,)\n"
     ]
    }
   ],
   "source": [
    "print(X_train.shape)\n",
    "print(X_test.shape)\n",
    "print(y_train.shape)\n",
    "print(y_test.shape)"
   ]
  },
  {
   "cell_type": "code",
   "execution_count": 12,
   "id": "ef503d0e",
   "metadata": {},
   "outputs": [
    {
     "data": {
      "text/plain": [
       "RandomForestClassifier(criterion='entropy')"
      ]
     },
     "execution_count": 12,
     "metadata": {},
     "output_type": "execute_result"
    }
   ],
   "source": [
    "from sklearn.ensemble import RandomForestClassifier  \n",
    "classifier= RandomForestClassifier(n_estimators= 100, criterion=\"entropy\")  \n",
    "classifier.fit(X_train, y_train)  "
   ]
  },
  {
   "cell_type": "code",
   "execution_count": 13,
   "id": "0333ec75",
   "metadata": {},
   "outputs": [],
   "source": [
    "y_pred= classifier.predict(X_test) "
   ]
  },
  {
   "cell_type": "code",
   "execution_count": 14,
   "id": "ddc19707",
   "metadata": {},
   "outputs": [
    {
     "data": {
      "text/plain": [
       "0.9562428571428572"
      ]
     },
     "execution_count": 14,
     "metadata": {},
     "output_type": "execute_result"
    }
   ],
   "source": [
    "from sklearn.metrics import accuracy_score \n",
    "accuracy_score(y_test, y_pred)  "
   ]
  },
  {
   "cell_type": "code",
   "execution_count": 15,
   "id": "350e54c8",
   "metadata": {},
   "outputs": [
    {
     "data": {
      "text/plain": [
       "array([[69544,   430,    54],\n",
       "       [ 1268, 32807,  1070],\n",
       "       [ 1323,  1981, 31523]], dtype=int64)"
      ]
     },
     "execution_count": 15,
     "metadata": {},
     "output_type": "execute_result"
    }
   ],
   "source": [
    "from sklearn.metrics import confusion_matrix \n",
    "confusion_matrix (y_test, y_pred)  "
   ]
  },
  {
   "cell_type": "code",
   "execution_count": 16,
   "id": "83450e7d",
   "metadata": {},
   "outputs": [],
   "source": [
    "from sklearn.neighbors import KNeighborsClassifier\n",
    "\n",
    "knn_model = KNeighborsClassifier(n_neighbors=64)\n",
    "knn_model.fit(X_train,y_train)\n",
    "knn_predict = knn_model.predict(X_test)"
   ]
  },
  {
   "cell_type": "code",
   "execution_count": 17,
   "id": "e5f7599b",
   "metadata": {},
   "outputs": [
    {
     "data": {
      "text/plain": [
       "0.9187714285714286"
      ]
     },
     "execution_count": 17,
     "metadata": {},
     "output_type": "execute_result"
    }
   ],
   "source": [
    "from sklearn.metrics import accuracy_score\n",
    "accuracy_score(y_test, knn_predict)"
   ]
  },
  {
   "cell_type": "code",
   "execution_count": 18,
   "id": "0e0af0e2",
   "metadata": {},
   "outputs": [
    {
     "data": {
      "text/plain": [
       "array([[69567,   117,   344],\n",
       "       [ 4322, 29030,  1793],\n",
       "       [ 2436,  2360, 30031]], dtype=int64)"
      ]
     },
     "execution_count": 18,
     "metadata": {},
     "output_type": "execute_result"
    }
   ],
   "source": [
    "from sklearn.metrics import confusion_matrix\n",
    "confusion_matrix(y_test, knn_predict)"
   ]
  },
  {
   "cell_type": "code",
   "execution_count": 19,
   "id": "3b1514a5",
   "metadata": {},
   "outputs": [],
   "source": [
    "from sklearn.svm import SVC\n",
    "\n",
    "svm_model = SVC(kernel='rbf')\n",
    "svm_model.fit(X_train,y_train)\n",
    "svm_predict = svm_model.predict(X_test)"
   ]
  },
  {
   "cell_type": "code",
   "execution_count": 20,
   "id": "43c320be",
   "metadata": {},
   "outputs": [
    {
     "data": {
      "text/plain": [
       "0.9285357142857142"
      ]
     },
     "execution_count": 20,
     "metadata": {},
     "output_type": "execute_result"
    }
   ],
   "source": [
    "from sklearn.metrics import accuracy_score\n",
    "accuracy_score(y_test, svm_predict)"
   ]
  },
  {
   "cell_type": "code",
   "execution_count": 21,
   "id": "1d1ae731",
   "metadata": {},
   "outputs": [
    {
     "data": {
      "text/plain": [
       "array([[69442,   276,   310],\n",
       "       [ 4321, 29888,   936],\n",
       "       [ 2691,  1471, 30665]], dtype=int64)"
      ]
     },
     "execution_count": 21,
     "metadata": {},
     "output_type": "execute_result"
    }
   ],
   "source": [
    "from sklearn.metrics import confusion_matrix\n",
    "confusion_matrix(y_test, svm_predict)"
   ]
  },
  {
   "cell_type": "code",
   "execution_count": 22,
   "id": "bdc429a1",
   "metadata": {},
   "outputs": [],
   "source": [
    "svm_modell = SVC(kernel='linear')\n",
    "svm_modell.fit(X_train,y_train)\n",
    "svm_predictl = svm_modell.predict(X_test)"
   ]
  },
  {
   "cell_type": "code",
   "execution_count": 23,
   "id": "cd1dca6a",
   "metadata": {},
   "outputs": [
    {
     "data": {
      "text/plain": [
       "0.9232428571428571"
      ]
     },
     "execution_count": 23,
     "metadata": {},
     "output_type": "execute_result"
    }
   ],
   "source": [
    "from sklearn.metrics import accuracy_score\n",
    "accuracy_score(y_test, svm_predictl)"
   ]
  },
  {
   "cell_type": "code",
   "execution_count": 24,
   "id": "8fd0dc4a",
   "metadata": {},
   "outputs": [
    {
     "data": {
      "text/plain": [
       "array([[69307,   634,    87],\n",
       "       [ 4162, 30700,   283],\n",
       "       [ 2457,  3123, 29247]], dtype=int64)"
      ]
     },
     "execution_count": 24,
     "metadata": {},
     "output_type": "execute_result"
    }
   ],
   "source": [
    "from sklearn.metrics import confusion_matrix\n",
    "confusion_matrix(y_test, svm_predictl)"
   ]
  },
  {
   "cell_type": "code",
   "execution_count": 26,
   "id": "018e788d",
   "metadata": {},
   "outputs": [],
   "source": [
    "test_error_rates=[]\n",
    "for k in range(1,30):\n",
    "  knn_model = KNeighborsClassifier(n_neighbors=k)\n",
    "  knn_model.fit(X_train,y_train)\n",
    "\n",
    "  y_pred_test = knn_model.predict(X_test)\n",
    "\n",
    "  test_error = 1 - accuracy_score(y_test, y_pred_test)\n",
    "  test_error_rates.append(test_error)"
   ]
  },
  {
   "cell_type": "code",
   "execution_count": 28,
   "id": "e3b44009",
   "metadata": {},
   "outputs": [
    {
     "data": {
      "text/plain": [
       "Text(0.5, 0, 'K value')"
      ]
     },
     "execution_count": 28,
     "metadata": {},
     "output_type": "execute_result"
    },
    {
     "data": {
      "image/png": "[encoded data removed]",
      "text/plain": [
       "<Figure size 1600x1000 with 1 Axes>"
      ]
     },
     "metadata": {},
     "output_type": "display_data"
    }
   ],
   "source": [
    "import matplotlib.pyplot as plt\n",
    "plt.figure(figsize=(8,5), dpi=200)\n",
    "plt.plot(range(1,30),test_error_rates, label='Test Error')\n",
    "plt.legend()\n",
    "plt.ylabel('Error_rate')\n",
    "plt.xlabel('K value')"
   ]
  }
 ],
 "metadata": {
  "kernelspec": {
   "display_name": "Python 3 (ipykernel)",
   "language": "python",
   "name": "python3"
  },
  "language_info": {
   "codemirror_mode": {
    "name": "ipython",
    "version": 3
   },
   "file_extension": ".py",
   "mimetype": "text/x-python",
   "name": "python",
   "nbconvert_exporter": "python",
   "pygments_lexer": "ipython3",
   "version": "3.9.16"
  }
 },
 "nbformat": 4,
 "nbformat_minor": 5
}
